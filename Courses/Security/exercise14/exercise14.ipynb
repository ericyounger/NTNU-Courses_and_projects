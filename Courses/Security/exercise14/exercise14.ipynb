{
 "cells": [
  {
   "cell_type": "markdown",
   "metadata": {},
   "source": [
    "# Exercise 14"
   ]
  },
  {
   "cell_type": "markdown",
   "metadata": {},
   "source": [
    "### Task 1"
   ]
  },
  {
   "cell_type": "code",
   "execution_count": 9,
   "metadata": {},
   "outputs": [
    {
     "name": "stdout",
     "output_type": "stream",
     "text": [
      "2\n"
     ]
    }
   ],
   "source": [
    "sumMod = (232 + 22 * 77 - 18*18) % 8\n",
    "print(sumMod)"
   ]
  },
  {
   "cell_type": "markdown",
   "metadata": {},
   "source": [
    "232 + 22 * 77 - 18^2 (mod 8)  \n",
    "0 + 6 * 5 - 4 = 26 mod 8  \n",
    "26 mod 8 = 2  \n"
   ]
  },
  {
   "cell_type": "markdown",
   "metadata": {},
   "source": [
    "### Task 2"
   ]
  },
  {
   "cell_type": "code",
   "execution_count": 10,
   "metadata": {},
   "outputs": [],
   "source": [
    "import numpy as np\n",
    "import math"
   ]
  },
  {
   "cell_type": "code",
   "execution_count": 11,
   "metadata": {},
   "outputs": [],
   "source": [
    "def multiplication_table_mod(MIN_MULTIPLIER, MAX_MULTIPLIER):\n",
    "    # 2a\n",
    "    matrix = np.zeros((MAX_MULTIPLIER-1, MAX_MULTIPLIER-1))\n",
    "\n",
    "    for x in range(MIN_MULTIPLIER,MAX_MULTIPLIER):\n",
    "        for y in range(MIN_MULTIPLIER,MAX_MULTIPLIER):\n",
    "            matrix[x-1][y-1] = x*y%MAX_MULTIPLIER\n",
    "    return matrix\n",
    "\n",
    "def multiplicative_inverse(matrix):\n",
    "    array = []\n",
    "    for x in range(len(matrix)):\n",
    "        for y in range(len(matrix)):\n",
    "            if(matrix[x][y] == 1):\n",
    "                array.append([x+1, y+1])\n",
    "    return array"
   ]
  },
  {
   "cell_type": "markdown",
   "metadata": {},
   "source": [
    "#### a)"
   ]
  },
  {
   "cell_type": "code",
   "execution_count": 12,
   "metadata": {},
   "outputs": [
    {
     "name": "stdout",
     "output_type": "stream",
     "text": [
      "[[ 1.  2.  3.  4.  5.  6.  7.  8.  9. 10. 11.]\n",
      " [ 2.  4.  6.  8. 10.  0.  2.  4.  6.  8. 10.]\n",
      " [ 3.  6.  9.  0.  3.  6.  9.  0.  3.  6.  9.]\n",
      " [ 4.  8.  0.  4.  8.  0.  4.  8.  0.  4.  8.]\n",
      " [ 5. 10.  3.  8.  1.  6. 11.  4.  9.  2.  7.]\n",
      " [ 6.  0.  6.  0.  6.  0.  6.  0.  6.  0.  6.]\n",
      " [ 7.  2.  9.  4. 11.  6.  1.  8.  3. 10.  5.]\n",
      " [ 8.  4.  0.  8.  4.  0.  8.  4.  0.  8.  4.]\n",
      " [ 9.  6.  3.  0.  9.  6.  3.  0.  9.  6.  3.]\n",
      " [10.  8.  6.  4.  2.  0. 10.  8.  6.  4.  2.]\n",
      " [11. 10.  9.  8.  7.  6.  5.  4.  3.  2.  1.]]\n"
     ]
    }
   ],
   "source": [
    "multi_table_mod = multiplication_table_mod(1,12)\n",
    "print(multi_table_mod)"
   ]
  },
  {
   "cell_type": "markdown",
   "metadata": {},
   "source": [
    "##### b)"
   ]
  },
  {
   "cell_type": "code",
   "execution_count": 13,
   "metadata": {},
   "outputs": [
    {
     "name": "stdout",
     "output_type": "stream",
     "text": [
      "1 * 1 congruent 1 mod 12\n",
      "5 * 5 congruent 1 mod 12\n",
      "7 * 7 congruent 1 mod 12\n",
      "11 * 11 congruent 1 mod 12\n"
     ]
    }
   ],
   "source": [
    "multi_inverse = multiplicative_inverse(multi_table_mod)\n",
    "\n",
    "for x in multi_inverse:\n",
    "    print(\"{} * {} congruent 1 mod 12\".format(x[0], x[1]))"
   ]
  },
  {
   "cell_type": "code",
   "execution_count": 14,
   "metadata": {},
   "outputs": [
    {
     "name": "stdout",
     "output_type": "stream",
     "text": [
      "\n",
      "task c\n"
     ]
    }
   ],
   "source": [
    "print(\"\\ntask c\")"
   ]
  },
  {
   "cell_type": "markdown",
   "metadata": {},
   "source": [
    "### Task 3"
   ]
  },
  {
   "cell_type": "code",
   "execution_count": 15,
   "metadata": {},
   "outputs": [],
   "source": [
    "def inverse_matrix(A):\n",
    "    if np.linalg.det(A) != 0:\n",
    "        return np.linalg.inv(A)*int(round(np.linalg.det(A)))\n",
    "    else:\n",
    "        return None \n",
    "\n",
    "def inverse_matrix_over_a(a, z):\n",
    "    a_det = int(np.linalg.det(a))\n",
    "    a_det_mod = a_det % len(z)\n",
    "    z_multipl_inverse = multiplicative_inverse(z)\n",
    "\n",
    "    det_in_multipl_inverse = False\n",
    "    \n",
    "    for x in z_multipl_inverse:\n",
    "        if a_det_mod in x:\n",
    "            det_in_multipl_inverse = True\n",
    "    \n",
    "    if(det_in_multipl_inverse):\n",
    "        a_inv = inverse_matrix(a)\n",
    "        return a_inv\n",
    "    else:\n",
    "        return None"
   ]
  },
  {
   "cell_type": "markdown",
   "metadata": {},
   "source": [
    "#### a)"
   ]
  },
  {
   "cell_type": "code",
   "execution_count": 16,
   "metadata": {},
   "outputs": [
    {
     "name": "stdout",
     "output_type": "stream",
     "text": [
      "Invers over z10:\n",
      "[[ 8.  1.]\n",
      " [-5.  2.]]\n"
     ]
    }
   ],
   "source": [
    "a = np.array([[2, -1], [5,8]])\n",
    "\n",
    "z_10 = multiplication_table_mod(1,11)\n",
    "inverse_over_z10 = inverse_matrix_over_a(a, z_10)\n",
    "print(\"Invers over z10:\")\n",
    "print(inverse_over_z10)"
   ]
  },
  {
   "cell_type": "markdown",
   "metadata": {},
   "source": [
    "#### b)"
   ]
  },
  {
   "cell_type": "code",
   "execution_count": 17,
   "metadata": {},
   "outputs": [
    {
     "name": "stdout",
     "output_type": "stream",
     "text": [
      "Invers over z9:\n",
      "[[ 8.  1.]\n",
      " [-5.  2.]]\n"
     ]
    }
   ],
   "source": [
    "print(\"Invers over z9:\")\n",
    "z_9 = multiplication_table_mod(1,10)\n",
    "inverse_over_z9 = inverse_matrix_over_a(a, z_9)\n",
    "print(inverse_over_z9)"
   ]
  },
  {
   "cell_type": "markdown",
   "metadata": {},
   "source": [
    "### Task 4"
   ]
  },
  {
   "cell_type": "markdown",
   "metadata": {},
   "source": [
    "a)  \n",
    "Et substitusjoncipher med alfabet med lengde 29 og med fast skift kan ha 29 forskjellige nøkler\n",
    "\n",
    "b)  \n",
    "Ved å endre på cipheret med fast lengde til et permutasjonscipher, så vil det eksistere 29! = 8,841761993739701e30 ulike nøkler.\n",
    "Man kan også sette det opp i et blokkchifre, da har hver blokk en fast lengde, og bruker padding for å oppnå dette. Deretter så enkrypteres hver blokk med en forskjellig nøkkel.\n",
    "\n",
    "c)  \n",
    "Hvis vi lager et substitusjonschiffer for blokker med N-tegn, så har vi alfabetet = 29^n"
   ]
  },
  {
   "cell_type": "markdown",
   "metadata": {},
   "source": [
    "### Task 5"
   ]
  },
  {
   "cell_type": "code",
   "execution_count": 18,
   "metadata": {},
   "outputs": [
    {
     "name": "stdout",
     "output_type": "stream",
     "text": [
      "Dekodet cipher er:\n",
      "HJERNENERALENE\n"
     ]
    }
   ],
   "source": [
    "def alphabet_list():\n",
    "    letters = []\n",
    "    for x in range(26):\n",
    "        letters.append(chr(65+x))\n",
    "        \n",
    "    letters.append('Æ')\n",
    "    letters.append('Ø')\n",
    "    letters.append('Å')\n",
    "    return letters\n",
    "\n",
    "def k_shift_cipher_decode(cipher, shift):\n",
    "    trimmedCipher = cipher.replace(\" \", \"\").upper()\n",
    "    \n",
    "    letters = alphabet_list()\n",
    "\n",
    "    decoded_string = \"\"\n",
    "    for letter in trimmedCipher:\n",
    "        index = (letters.index(letter) + shift) % len(letters)\n",
    "        decoded_string += letters[index]\n",
    "    return decoded_string\n",
    "\n",
    "print(\"Dekodet cipher er:\")\n",
    "decoded_string = k_shift_cipher_decode(\"YÆVFB VBVFR ÅVBV\", 12)\n",
    "print(decoded_string)"
   ]
  },
  {
   "cell_type": "markdown",
   "metadata": {},
   "source": [
    "### Task 6"
   ]
  },
  {
   "cell_type": "markdown",
   "metadata": {},
   "source": [
    "### Task 7   - Vigenere chiffer"
   ]
  },
  {
   "cell_type": "markdown",
   "metadata": {},
   "source": [
    "#### A)"
   ]
  },
  {
   "cell_type": "code",
   "execution_count": 19,
   "metadata": {},
   "outputs": [
    {
     "name": "stdout",
     "output_type": "stream",
     "text": [
      "Encrypted cipher:  DNVGNXEGCKHEYWVZ\n",
      "Decrypted cleartext: NÅERDETSNARTHELG\n"
     ]
    }
   ],
   "source": [
    "def create_vigenere_table():\n",
    "    table = np.zeros((29,29), 'U1')\n",
    "\n",
    "    letters = [chr(65+x) for x in range(26)]\n",
    "    letters.append('Æ')\n",
    "    letters.append('Ø')\n",
    "    letters.append('Å')\n",
    "\n",
    "    for row in range(len(letters)):\n",
    "        for col in range(len(letters)):\n",
    "            charToAdd = (col+row) % len(letters)\n",
    "            table[row][col] = letters[charToAdd]\n",
    "            \n",
    "    return (table, letters)\n",
    "\n",
    "def encrypt(cleartext, key):\n",
    "    table, letters = create_vigenere_table()\n",
    "    cipher = \"\"\n",
    "\n",
    "    for i, letter in enumerate(cleartext):\n",
    "        indexCol = letters.index(letter)\n",
    "        indexRow = letters.index(key[i % len(key)])\n",
    "        cipher += table[indexRow][indexCol]\n",
    "    return cipher\n",
    "\n",
    "def decrypt(cipher, key):\n",
    "    table, letters = create_vigenere_table()\n",
    "    cleartext = \"\"\n",
    "\n",
    "    for i, letter in enumerate(cipher):\n",
    "        indexCol = letters.index(letter)\n",
    "        indexRow = letters.index(key[i % len(key)])\n",
    "        cleartext += letters[(indexCol - indexRow) % len(letters)]\n",
    "    return cleartext\n",
    "    \n",
    "cleartext = \"Nå er det snart helg\".replace(\" \", \"\").upper()\n",
    "key = \"torsk\".upper()\n",
    "\n",
    "\n",
    "cipher = encrypt(cleartext, key)\n",
    "print(\"Encrypted cipher: \", cipher)\n",
    "\n",
    "decrypted = decrypt(cipher, key)\n",
    "print(\"Decrypted cleartext:\", decrypted)\n",
    "    \n"
   ]
  },
  {
   "cell_type": "markdown",
   "metadata": {},
   "source": [
    "#### B)"
   ]
  },
  {
   "cell_type": "code",
   "execution_count": 20,
   "metadata": {},
   "outputs": [
    {
     "name": "stdout",
     "output_type": "stream",
     "text": [
      "Dekrypter tekst er= PIZZAELLERTACO\n"
     ]
    }
   ],
   "source": [
    "cipher_b = \"QZQOBVCAFFKSDC\"\n",
    "key_b = \"BRUS\"\n",
    "decrypted_b = decrypt(cipher_b, key_b)\n",
    "print(\"Dekrypter tekst er=\",decrypted_b)"
   ]
  },
  {
   "cell_type": "markdown",
   "metadata": {},
   "source": [
    "#### C)"
   ]
  },
  {
   "cell_type": "code",
   "execution_count": null,
   "metadata": {},
   "outputs": [],
   "source": []
  },
  {
   "cell_type": "markdown",
   "metadata": {},
   "source": [
    "### Task 8"
   ]
  },
  {
   "cell_type": "markdown",
   "metadata": {},
   "source": [
    "#### A)"
   ]
  },
  {
   "cell_type": "code",
   "execution_count": 21,
   "metadata": {},
   "outputs": [
    {
     "name": "stdout",
     "output_type": "stream",
     "text": [
      "K invers over z_29:\n",
      "[[ 7. -8.]\n",
      " [-3. 11.]]\n"
     ]
    }
   ],
   "source": [
    "K = np.array([[11, 8], [3, 7]])\n",
    "z_29 = multiplication_table_mod(1,29)\n",
    "K_inv = inverse_matrix_over_a(K, z_29)\n",
    "print(\"K invers over z_29:\")\n",
    "print(K_inv)"
   ]
  },
  {
   "cell_type": "markdown",
   "metadata": {},
   "source": [
    "#### B)"
   ]
  },
  {
   "cell_type": "code",
   "execution_count": 22,
   "metadata": {},
   "outputs": [],
   "source": [
    "def egcd(a, b):\n",
    "    if a == 0:\n",
    "        return (b, 0, 1)\n",
    "    else:\n",
    "        gcd, x, y = egcd(b % a, a)\n",
    "        return (gcd, y - (b//a) * x, x)\n",
    "\n",
    "def vectorize_string(text):\n",
    "    vector = []\n",
    "    for letter in text:\n",
    "        indexLetter = letters.index(letter)\n",
    "        vector.append(indexLetter)\n",
    "    vector = np.array(vector)\n",
    "    return vector\n",
    "\n",
    "def encrypt_hill(cleartext, k_matrix):\n",
    "    if(len(cleartext)%2 == 0):\n",
    "        cleartext_vector = vectorize_string(cleartext).reshape((-1,2))\n",
    "    else:\n",
    "        cleartext_vector = vectorize_string(cleartext+\"A\").reshape((-1,2))\n",
    "    cipher = \"\"\n",
    "    \n",
    "    print(\"Key:\")\n",
    "    print(k_matrix)\n",
    "    print(\"\\n\")\n",
    "    \n",
    "    print(\"Cleartext vector:\")\n",
    "    print(cleartext_vector)\n",
    "    print(\"\\n\")\n",
    "    \n",
    "    e_list = []\n",
    "    print(\"Encryption:\")\n",
    "    for vector in cleartext_vector:\n",
    "        encryption = (k_matrix@vector)%len(letters)\n",
    "  \n",
    "        print(encryption)\n",
    "        e_list.append(encryption)\n",
    "    print(\"\\n\")\n",
    "    for row in e_list:\n",
    "        for column in row:\n",
    "            cipher += letters[column%len(letters)]\n",
    "            \n",
    "    return cipher\n",
    "\n",
    "def decrypt_hill(cipher, K):\n",
    "    K_inv = inverse_matrix(K)\n",
    "    if(len(cipher)%2 == 0):\n",
    "        cipher_vector = vectorize_string(cipher).reshape((-1,2))\n",
    "    else:\n",
    "        cipher_vector = vectorize_string(cipher+\"A\").reshape((-1,2))\n",
    "        \n",
    "    print(\"Key inverse:\")\n",
    "    print(K)\n",
    "    print(\"\\n\")\n",
    "\n",
    "    detK = int(round(np.linalg.det(K)))\n",
    "    detKInv = egcd(detK, 29)[1]%29\n",
    "    print(detKInv)\n",
    "\n",
    "    print(\"Cipher vector:\")\n",
    "    print(cipher_vector)\n",
    "    print(\"\\n\")\n",
    "    \n",
    "    d_list = []\n",
    "    print(\"Decrypted text:\")\n",
    "    for vector in cipher_vector:\n",
    "        decryption = (detKInv*K_inv@vector)% len(letters)\n",
    "        print(decryption)\n",
    "        d_list.append(decryption)\n",
    "\n",
    "    print(\"\\n\")\n",
    "    cleartext = \"\"\n",
    "    for row in d_list:\n",
    "        for column in row:\n",
    "            cleartext += letters[int(math.ceil(column))%len(letters)]\n",
    "    return cleartext"
   ]
  },
  {
   "cell_type": "code",
   "execution_count": 23,
   "metadata": {},
   "outputs": [
    {
     "name": "stdout",
     "output_type": "stream",
     "text": [
      "Key:\n",
      "[[11  8]\n",
      " [ 3  7]]\n",
      "\n",
      "\n",
      "Cleartext vector:\n",
      "[[15 17]\n",
      " [ 8 12]]\n",
      "\n",
      "\n",
      "Encryption:\n",
      "[11 19]\n",
      "[10 21]\n",
      "\n",
      "\n",
      "Encrypted cipher is: LTKV\n",
      "Key inverse:\n",
      "[[11  8]\n",
      " [ 3  7]]\n",
      "\n",
      "\n",
      "23\n",
      "Cipher vector:\n",
      "[[11 19]\n",
      " [10 21]]\n",
      "\n",
      "\n",
      "Decrypted text:\n",
      "[15. 17.]\n",
      "[ 8. 12.]\n",
      "\n",
      "\n",
      "Decrypted text is: PRIM\n"
     ]
    }
   ],
   "source": [
    "letters = alphabet_list()\n",
    "\n",
    "cleartext_hill= \"prim\".upper()\n",
    "cipher_hill_text = encrypt_hill(cleartext_hill, K)\n",
    "print(\"Encrypted cipher is:\", cipher_hill_text)\n",
    "\n",
    "#Testing with decrypt\n",
    "decryptHillText = decrypt_hill(cipher_hill_text, K)\n",
    "print(\"Decrypted text is:\", decryptHillText)"
   ]
  },
  {
   "cell_type": "code",
   "execution_count": 24,
   "metadata": {},
   "outputs": [
    {
     "name": "stdout",
     "output_type": "stream",
     "text": [
      "Key inverse:\n",
      "[[11  8]\n",
      " [ 3  7]]\n",
      "\n",
      "\n",
      "23\n",
      "Cipher vector:\n",
      "[[19 14]\n",
      " [24 24]\n",
      " [18 13]]\n",
      "\n",
      "\n",
      "Decrypted text:\n",
      "[19. 27.]\n",
      "[28.  8.]\n",
      "[13. 17.]\n",
      "\n",
      "\n",
      "TØÅINR\n"
     ]
    }
   ],
   "source": [
    "cipher = \"TOYYSN\"\n",
    "cleartext_c = decrypt_hill(cipher, K)\n",
    "print(cleartext_c)"
   ]
  },
  {
   "cell_type": "markdown",
   "metadata": {},
   "source": [
    "#### D)"
   ]
  },
  {
   "cell_type": "code",
   "execution_count": 25,
   "metadata": {},
   "outputs": [
    {
     "name": "stdout",
     "output_type": "stream",
     "text": [
      "Key inverse:\n",
      "[[ 7. -8.]\n",
      " [-3. 11.]]\n",
      "\n",
      "\n",
      "23\n",
      "Cipher vector:\n",
      "[[ 8 27]\n",
      " [28 24]]\n",
      "\n",
      "\n",
      "Decrypted text:\n",
      "[ 3. 27.]\n",
      "[16. 25.]\n",
      "\n",
      "\n"
     ]
    },
    {
     "data": {
      "text/plain": [
       "'\\n\\n\\nwhile actual_cleartext is not test_crack:\\n    for x in range(1,100):\\n        new_K = multiplication_table_mod(1,x)\\n        new_K_inv = inverse_matrix(new_K)\\n        try:\\n            pass\\n            #test_crack = decrypt_hill(actual_cipher, new_K)\\n        except:\\n            pass\\n\\nprint(test_crack)\\n'"
      ]
     },
     "execution_count": 25,
     "metadata": {},
     "output_type": "execute_result"
    }
   ],
   "source": [
    "actual_cleartext = \"EASY\"\n",
    "actual_cipher = \"IØÅY\"\n",
    "m=2\n",
    "\n",
    "#now crack this\n",
    "test_crack = decrypt_hill(actual_cipher, K_inv)\n",
    "'''\n",
    "\n",
    "\n",
    "while actual_cleartext is not test_crack:\n",
    "    for x in range(1,100):\n",
    "        new_K = multiplication_table_mod(1,x)\n",
    "        new_K_inv = inverse_matrix(new_K)\n",
    "        try:\n",
    "            pass\n",
    "            #test_crack = decrypt_hill(actual_cipher, new_K)\n",
    "        except:\n",
    "            pass\n",
    "\n",
    "print(test_crack)\n",
    "'''"
   ]
  },
  {
   "cell_type": "code",
   "execution_count": 39,
   "metadata": {},
   "outputs": [
    {
     "name": "stdout",
     "output_type": "stream",
     "text": [
      "Cipher is: [17]\n",
      "Deciphered plaintext is: [20]\n",
      "EXAM DECIPHER IS: [24, 4, 18]\n"
     ]
    }
   ],
   "source": [
    "def affine_encrypt(message, key, n):\n",
    "    a, b = key\n",
    "    cipher_list = []\n",
    "    for x in message:\n",
    "        e = (a*x+b)%n\n",
    "        cipher_list.append(e)\n",
    "    return cipher_list\n",
    "    \n",
    "def affine_decrypt(cipher, key, n):\n",
    "    a, b = key\n",
    "    _, aInv, __= egcd(a, n)\n",
    "    plaintext = []\n",
    "    for x in cipher:\n",
    "        p = (aInv*(x-b))%n\n",
    "        plaintext.append(p)\n",
    "    return plaintext\n",
    "\n",
    "message = [20]\n",
    "key = (15, 3)\n",
    "encrypted = affine_encrypt(message, key, 26)\n",
    "print(\"Cipher is:\", encrypted)\n",
    "\n",
    "\n",
    "deciphered = affine_decrypt(encrypted, key, 26)\n",
    "print(\"Deciphered plaintext is:\", deciphered)\n",
    "\n",
    "cipher2 = [ 25, 11, 13]\n",
    "deciphered2 = affine_decrypt(cipher2, key, 26)\n",
    "print(\"EXAM DECIPHER IS:\", deciphered2)"
   ]
  },
  {
   "cell_type": "code",
   "execution_count": null,
   "metadata": {},
   "outputs": [],
   "source": []
  }
 ],
 "metadata": {
  "kernelspec": {
   "display_name": "Python 3",
   "language": "python",
   "name": "python3"
  },
  "language_info": {
   "codemirror_mode": {
    "name": "ipython",
    "version": 3
   },
   "file_extension": ".py",
   "mimetype": "text/x-python",
   "name": "python",
   "nbconvert_exporter": "python",
   "pygments_lexer": "ipython3",
   "version": "3.8.2"
  }
 },
 "nbformat": 4,
 "nbformat_minor": 4
}
