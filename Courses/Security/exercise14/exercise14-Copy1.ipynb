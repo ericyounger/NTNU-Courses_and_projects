{
 "cells": [
  {
   "cell_type": "markdown",
   "metadata": {},
   "source": [
    "# Exercise 14"
   ]
  },
  {
   "cell_type": "markdown",
   "metadata": {},
   "source": [
    "### Task 1"
   ]
  },
  {
   "cell_type": "code",
   "execution_count": 1,
   "metadata": {},
   "outputs": [
    {
     "name": "stdout",
     "output_type": "stream",
     "text": [
      "2\n"
     ]
    }
   ],
   "source": [
    "sumMod = (232 + 22 * 77 - 18*18) % 8\n",
    "print(sumMod)"
   ]
  },
  {
   "cell_type": "markdown",
   "metadata": {},
   "source": [
    "232 + 22 * 77 - 18^2 (mod 8)  \n",
    "0 + 6 * 5 - 4 = 26 mod 8  \n",
    "26 mod 8 = 2  \n"
   ]
  },
  {
   "cell_type": "markdown",
   "metadata": {},
   "source": [
    "### Task 2"
   ]
  },
  {
   "cell_type": "code",
   "execution_count": 3,
   "metadata": {},
   "outputs": [
    {
     "ename": "ModuleNotFoundError",
     "evalue": "No module named 'numpy'",
     "output_type": "error",
     "traceback": [
      "\u001b[0;31m---------------------------------------------------------------------------\u001b[0m",
      "\u001b[0;31mModuleNotFoundError\u001b[0m                       Traceback (most recent call last)",
      "\u001b[0;32m<ipython-input-3-e0609d65021d>\u001b[0m in \u001b[0;36m<module>\u001b[0;34m\u001b[0m\n\u001b[0;32m----> 1\u001b[0;31m \u001b[0;32mimport\u001b[0m \u001b[0mnumpy\u001b[0m \u001b[0;32mas\u001b[0m \u001b[0mnp\u001b[0m\u001b[0;34m\u001b[0m\u001b[0;34m\u001b[0m\u001b[0m\n\u001b[0m\u001b[1;32m      2\u001b[0m \u001b[0;32mimport\u001b[0m \u001b[0mmath\u001b[0m\u001b[0;34m\u001b[0m\u001b[0;34m\u001b[0m\u001b[0m\n",
      "\u001b[0;31mModuleNotFoundError\u001b[0m: No module named 'numpy'"
     ]
    }
   ],
   "source": [
    "import numpy as np\n",
    "import math"
   ]
  },
  {
   "cell_type": "code",
   "execution_count": null,
   "metadata": {},
   "outputs": [],
   "source": [
    "def multiplication_table_mod(MIN_MULTIPLIER, MAX_MULTIPLIER):\n",
    "    # 2a\n",
    "    matrix = np.zeros((MAX_MULTIPLIER-1, MAX_MULTIPLIER-1))\n",
    "\n",
    "    for x in range(MIN_MULTIPLIER,MAX_MULTIPLIER):\n",
    "        for y in range(MIN_MULTIPLIER,MAX_MULTIPLIER):\n",
    "            matrix[x-1][y-1] = x*y%MAX_MULTIPLIER\n",
    "    return matrix\n",
    "\n",
    "def multiplicative_inverse(matrix):\n",
    "    array = []\n",
    "    for x in range(len(matrix)):\n",
    "        for y in range(len(matrix)):\n",
    "            if(matrix[x][y] == 1):\n",
    "                array.append([x+1, y+1])\n",
    "    return array"
   ]
  },
  {
   "cell_type": "markdown",
   "metadata": {},
   "source": [
    "#### a)"
   ]
  },
  {
   "cell_type": "code",
   "execution_count": null,
   "metadata": {},
   "outputs": [],
   "source": [
    "multi_table_mod = multiplication_table_mod(1,12)\n",
    "print(multi_table_mod)"
   ]
  },
  {
   "cell_type": "markdown",
   "metadata": {},
   "source": [
    "##### b)"
   ]
  },
  {
   "cell_type": "code",
   "execution_count": null,
   "metadata": {},
   "outputs": [],
   "source": [
    "multi_inverse = multiplicative_inverse(multi_table_mod)\n",
    "\n",
    "for x in multi_inverse:\n",
    "    print(\"{} * {} congruent 1 mod 12\".format(x[0], x[1]))"
   ]
  },
  {
   "cell_type": "markdown",
   "metadata": {},
   "source": [
    "#### c)"
   ]
  },
  {
   "cell_type": "markdown",
   "metadata": {},
   "source": [
    "Grunnen til at man ikke kan få 1 og 0 på samme rad og kolonne, er fordi for å få 1 så må det settet være relativ primisk for å få 1.\n",
    "Det vil si at man enten får 0 eller 1."
   ]
  },
  {
   "cell_type": "markdown",
   "metadata": {},
   "source": [
    "### Task 3"
   ]
  },
  {
   "cell_type": "code",
   "execution_count": null,
   "metadata": {},
   "outputs": [],
   "source": [
    "def inverse_matrix(A):\n",
    "    if np.linalg.det(A) != 0:\n",
    "        return np.linalg.inv(A)*np.linalg.det(A)\n",
    "    else:\n",
    "        return None \n",
    "\n",
    "def inverse_matrix_over_a(a, z):\n",
    "    a_det = int(np.linalg.det(a))\n",
    "    a_det_mod = a_det % len(z)\n",
    "    z_multipl_inverse = multiplicative_inverse(z)\n",
    "    det_in_multipl_inverse = False\n",
    "    \n",
    "    for x in z_multipl_inverse:\n",
    "        if a_det_mod in x:\n",
    "            det_in_multipl_inverse = True\n",
    "    \n",
    "    if(det_in_multipl_inverse):\n",
    "        a_inv = inverse_matrix(a)\n",
    "        return a_inv\n",
    "    else:\n",
    "        return None"
   ]
  },
  {
   "cell_type": "markdown",
   "metadata": {},
   "source": [
    "#### a)"
   ]
  },
  {
   "cell_type": "code",
   "execution_count": null,
   "metadata": {},
   "outputs": [],
   "source": [
    "a = np.array([[2, -1], [5,8]])\n",
    "\n",
    "z_10 = multiplication_table_mod(1,11)\n",
    "inverse_over_z10 = inverse_matrix_over_a(a, z_10)\n",
    "print(\"Invers over z10:\")\n",
    "print(inverse_over_z10)"
   ]
  },
  {
   "cell_type": "markdown",
   "metadata": {},
   "source": [
    "#### b)"
   ]
  },
  {
   "cell_type": "code",
   "execution_count": null,
   "metadata": {},
   "outputs": [],
   "source": [
    "print(\"Invers over z9:\")\n",
    "z_9 = multiplication_table_mod(1,10)\n",
    "inverse_over_z9 = inverse_matrix_over_a(a, z_9)\n",
    "print(inverse_over_z9)"
   ]
  },
  {
   "cell_type": "markdown",
   "metadata": {},
   "source": [
    "### Task 4"
   ]
  },
  {
   "cell_type": "markdown",
   "metadata": {},
   "source": [
    "a)  \n",
    "Et substitusjoncipher med alfabet med lengde 29 og med fast skift kan ha 29 forskjellige nøkler\n",
    "\n",
    "b)  \n",
    "Ved å endre på cipheret med fast lengde til et permutasjonscipher, så vil det eksistere 29! = 8,841761993739701e30 ulike nøkler.\n",
    "Man kan også sette det opp i et blokkchifre. Det hjelper også på å bruke dialekt, og å unngå padding, og kjente hilsener og fraser.\n",
    "\n",
    "c)  \n",
    "Hvis vi lager et substitusjonschiffer for blokker med N-tegn, så har vi alfabetet = (29^n)!"
   ]
  },
  {
   "cell_type": "markdown",
   "metadata": {},
   "source": [
    "### Task 5"
   ]
  },
  {
   "cell_type": "code",
   "execution_count": null,
   "metadata": {},
   "outputs": [],
   "source": [
    "def alphabet_list():\n",
    "    letters = []\n",
    "    for x in range(26):\n",
    "        letters.append(chr(65+x))\n",
    "        \n",
    "    letters.append('Æ')\n",
    "    letters.append('Ø')\n",
    "    letters.append('Å')\n",
    "    return letters\n",
    "\n",
    "def k_shift_cipher_decode(cipher, shift):\n",
    "    trimmedCipher = cipher.replace(\" \", \"\").upper()\n",
    "    \n",
    "    letters = alphabet_list()\n",
    "\n",
    "    decoded_string = \"\"\n",
    "    for letter in trimmedCipher:\n",
    "        index = (letters.index(letter) + shift) % len(letters)\n",
    "        decoded_string += letters[index]\n",
    "    return decoded_string\n",
    "\n",
    "print(\"Dekodet cipher er:\")\n",
    "decoded_string = k_shift_cipher_decode(\"YÆVFB VBVFR ÅVBV\", 12)\n",
    "print(decoded_string)"
   ]
  },
  {
   "cell_type": "markdown",
   "metadata": {},
   "source": [
    "### Task 6"
   ]
  },
  {
   "cell_type": "markdown",
   "metadata": {},
   "source": [
    "##### Formell definisjon:  \n",
    "E_K(x1,x2...x_b) --> (x1+ k1, x2+k2, .... x_b+k_b)(mod N)  \n",
    "D_K(y1,y2...y_b) --> (y1-k1, y2-k2, .... y_b-k_b)(mod N)  \n",
    "\n",
    "##### Det finnes N^B forskjellige nøkler for chiffret, hvor B er blokk lengden og N er alfabet med lengde N."
   ]
  },
  {
   "cell_type": "markdown",
   "metadata": {},
   "source": [
    "### Task 7   - Vigenere chiffer"
   ]
  },
  {
   "cell_type": "markdown",
   "metadata": {},
   "source": [
    "#### a)"
   ]
  },
  {
   "cell_type": "code",
   "execution_count": null,
   "metadata": {},
   "outputs": [],
   "source": [
    "def create_vigenere_table():\n",
    "    table = np.zeros((29,29), 'U1')\n",
    "\n",
    "    letters = [chr(65+x) for x in range(26)]\n",
    "    letters.append('Æ')\n",
    "    letters.append('Ø')\n",
    "    letters.append('Å')\n",
    "\n",
    "    for row in range(len(letters)):\n",
    "        for col in range(len(letters)):\n",
    "            charToAdd = (col+row) % len(letters)\n",
    "            table[row][col] = letters[charToAdd]\n",
    "            \n",
    "    return (table, letters)\n",
    "\n",
    "def encrypt(cleartext, key):\n",
    "    table, letters = create_vigenere_table()\n",
    "    cipher = \"\"\n",
    "\n",
    "    for i, letter in enumerate(cleartext):\n",
    "        indexCol = letters.index(letter)\n",
    "        indexRow = letters.index(key[i % len(key)])\n",
    "        cipher += table[indexRow][indexCol]\n",
    "    return cipher\n",
    "\n",
    "def decrypt(cipher, key):\n",
    "    table, letters = create_vigenere_table()\n",
    "    cleartext = \"\"\n",
    "\n",
    "    for i, letter in enumerate(cipher):\n",
    "        indexCol = letters.index(letter)\n",
    "        indexRow = letters.index(key[i % len(key)])\n",
    "        cleartext += letters[(indexCol - indexRow) % len(letters)]\n",
    "    return cleartext\n",
    "    \n",
    "cleartext = \"Nå er det snart helg\".replace(\" \", \"\").upper()\n",
    "key = \"torsk\".upper()\n",
    "\n",
    "\n",
    "cipher = encrypt(cleartext, key)\n",
    "print(\"Encrypted cipher: \", cipher)\n",
    "\n",
    "decrypted = decrypt(cipher, key)\n",
    "print(\"Decrypted cleartext:\", decrypted)\n",
    "    \n"
   ]
  },
  {
   "cell_type": "markdown",
   "metadata": {},
   "source": [
    "#### b)"
   ]
  },
  {
   "cell_type": "code",
   "execution_count": null,
   "metadata": {},
   "outputs": [],
   "source": [
    "cipher_b = \"QZQOBVCAFFKSDC\"\n",
    "key_b = \"BRUS\"\n",
    "decrypted_b = decrypt(cipher_b, key_b)\n",
    "print(\"Dekrypter tekst er=\",decrypted_b)"
   ]
  },
  {
   "cell_type": "markdown",
   "metadata": {},
   "source": [
    "#### c)"
   ]
  },
  {
   "cell_type": "markdown",
   "metadata": {},
   "source": [
    "29^5 = 20511149 antall mulig nøkler med en lengde 5 på nøkkelen"
   ]
  },
  {
   "cell_type": "markdown",
   "metadata": {},
   "source": [
    "### Task 8"
   ]
  },
  {
   "cell_type": "markdown",
   "metadata": {},
   "source": [
    "#### a)"
   ]
  },
  {
   "cell_type": "code",
   "execution_count": null,
   "metadata": {},
   "outputs": [],
   "source": [
    "K = np.array([[11, 8], [3, 7]])\n",
    "z_29 = multiplication_table_mod(1,29)\n",
    "K_inv = inverse_matrix_over_a(K, z_29)\n",
    "print(\"K invers over z_29:\")\n",
    "print(K_inv)"
   ]
  },
  {
   "cell_type": "markdown",
   "metadata": {},
   "source": [
    "#### b)"
   ]
  },
  {
   "cell_type": "code",
   "execution_count": null,
   "metadata": {},
   "outputs": [],
   "source": [
    "def vectorize_string(text):\n",
    "    vector = []\n",
    "    for letter in text:\n",
    "        indexLetter = letters.index(letter)\n",
    "        vector.append(indexLetter)\n",
    "    vector = np.array(vector)\n",
    "    return vector\n",
    "\n",
    "def gcdExtended(a, b):  \n",
    "    # Base Case  \n",
    "    if a == 0 :   \n",
    "        return b,0,1\n",
    "             \n",
    "    gcd,x1,y1 = gcdExtended(b%a, a)  \n",
    "     \n",
    "    # Update x and y using results of recursive  \n",
    "    # call  \n",
    "    x = y1 - (b//a) * x1  \n",
    "    y = x1  \n",
    "     \n",
    "    return gcd,x,y \n",
    "    \n",
    "def encrypt_hill(cleartext, k_matrix, key_size=2):\n",
    "    if(len(cleartext)%2 == 0):\n",
    "        cleartext_vector = vectorize_string(cleartext).reshape((-1, key_size))\n",
    "    else:\n",
    "        cleartext_vector = vectorize_28string(cleartext+\"A\").reshape((-1, key_size))\n",
    "    cipher = \"\"\n",
    "    \n",
    "    e_list = []\n",
    "    for vector in cleartext_vector:\n",
    "        encryption = (vector@k_matrix)%len(letters)\n",
    "        e_list.append(encryption)\n",
    "    \n",
    "    for row in e_list:\n",
    "        for column in row:\n",
    "            cipher += letters[column%len(letters)]\n",
    "            \n",
    "    return cipher\n",
    "\n",
    "def decrypt_hill(cipher, K, key_size=2):\n",
    "    K_inv = inverse_matrix_over_a(K, multiplication_table_mod(1,29))\n",
    "    if(K_inv is not None):\n",
    "        K_det = round(np.linalg.det(K))%len(letters)\n",
    "        \n",
    "        if(len(cipher)%2 == 0):\n",
    "            cipher_vector = vectorize_string(cipher).reshape((-1, key_size))\n",
    "        else:\n",
    "            cipher_vector = vectorize_string(cipher+\"A\").reshape((-1, key_size))\n",
    "            \n",
    "        x = gcdExtended(K_det, len(letters))[1]\n",
    "        d_list = []\n",
    "        \n",
    "        for vector in cipher_vector:\n",
    "            decryption = (vector@(K_inv*x))% len(letters)\n",
    "            d_list.append(decryption)\n",
    "\n",
    "        cleartext = \"\"\n",
    "        for row in d_list:\n",
    "            for column in row:\n",
    "                cleartext += letters[int(round(column))%len(letters)]\n",
    "        return cleartext\n",
    "    else:\n",
    "        return \"\""
   ]
  },
  {
   "cell_type": "code",
   "execution_count": null,
   "metadata": {},
   "outputs": [],
   "source": [
    "letters = alphabet_list()\n",
    "\n",
    "cleartext_hill= \"prim\".upper()\n",
    "cipher_hill_text = encrypt_hill(cleartext_hill, K)\n",
    "print(\"Encrypted cipher is:\", cipher_hill_text)\n",
    "\n",
    "#Testing with decrypt\n",
    "decryptHillText = decrypt_hill(cipher_hill_text, K)\n",
    "print(\"Decrypted text is:\", decryptHillText)"
   ]
  },
  {
   "cell_type": "markdown",
   "metadata": {},
   "source": [
    "#### c)"
   ]
  },
  {
   "cell_type": "code",
   "execution_count": null,
   "metadata": {},
   "outputs": [],
   "source": [
    "cipher = \"TOYYSN\"\n",
    "cleartext_c = decrypt_hill(cipher, K)\n",
    "print(cleartext_c)"
   ]
  },
  {
   "cell_type": "markdown",
   "metadata": {},
   "source": [
    "#### d)"
   ]
  },
  {
   "cell_type": "code",
   "execution_count": null,
   "metadata": {},
   "outputs": [],
   "source": [
    "CRACKED_KEY = np.array([[2,14], [19,5]])\n",
    "plain = \"EASY\"\n",
    "found_cipher = \"IØÅY\"\n",
    "\n",
    "encrypted_cipher = encrypt_hill(plain, CRACKED_KEY)\n",
    "decrypt = decrypt_hill(found_cipher, CRACKED_KEY)\n",
    "\n",
    "print(\"Decrypted with cracked key:\", decrypt, \", Found plaintext:\", plain)\n",
    "\n",
    "print(\"Found cipher:\", found_cipher, \", Encrypted_cipher:\", encrypted_cipher)"
   ]
  },
  {
   "cell_type": "markdown",
   "metadata": {},
   "source": [
    "SE NOTATBOK FOR FREMGANGSMÅTE FOR OPPGAVE D"
   ]
  },
  {
   "cell_type": "code",
   "execution_count": null,
   "metadata": {},
   "outputs": [],
   "source": [
    "#brute force find key\n",
    "found_key = False\n",
    "brute_key = np.array([])\n",
    "for a in range(21):\n",
    "    if found_key: break\n",
    "    for b in range(21):\n",
    "        if found_key: break\n",
    "        for c in range(21):\n",
    "            if found_key: break\n",
    "            for d in range(21):\n",
    "                testKey = np.array([[a, b], [c, d]])\n",
    "                if(decrypt_hill(found_cipher, testKey) == plain):\n",
    "                    print(\"Found key\")\n",
    "                    print(testKey)\n",
    "                    found_key = True\n",
    "                    brute_key = found_key\n",
    "                    break"
   ]
  },
  {
   "cell_type": "code",
   "execution_count": null,
   "metadata": {},
   "outputs": [],
   "source": []
  }
 ],
 "metadata": {
  "kernelspec": {
   "display_name": "Python 3",
   "language": "python",
   "name": "python3"
  },
  "language_info": {
   "codemirror_mode": {
    "name": "ipython",
    "version": 3
   },
   "file_extension": ".py",
   "mimetype": "text/x-python",
   "name": "python",
   "nbconvert_exporter": "python",
   "pygments_lexer": "ipython3",
   "version": "3.9.0"
  }
 },
 "nbformat": 4,
 "nbformat_minor": 4
}
