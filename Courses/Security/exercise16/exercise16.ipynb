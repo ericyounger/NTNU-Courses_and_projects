{
 "cells": [
  {
   "cell_type": "markdown",
   "metadata": {},
   "source": [
    "# Exercise 16"
   ]
  },
  {
   "cell_type": "markdown",
   "metadata": {},
   "source": [
    "### Task 1a)"
   ]
  },
  {
   "cell_type": "markdown",
   "metadata": {},
   "source": [
    "#### 1."
   ]
  },
  {
   "cell_type": "code",
   "execution_count": 2,
   "metadata": {},
   "outputs": [
    {
     "name": "stdout",
     "output_type": "stream",
     "text": [
      "Pattern is: 100011000\n",
      "Period of K is: 5\n"
     ]
    }
   ],
   "source": [
    "import math\n",
    "import numpy as np\n",
    "\n",
    "def LSFR(K, modN):\n",
    "    strK = str(K)\n",
    "    firstBin = strK\n",
    "    period = 0\n",
    "    counter = 0;\n",
    "    repeatingPattern = \"\"\n",
    "    \n",
    " \n",
    "    while(True):\n",
    "        strK += str((int(strK[counter]) + int(strK[counter+1])+ int(strK[counter+2]) + int(strK[counter+3]))%modN)\n",
    "        try:\n",
    "            index = strK.index(firstBin, len(K))\n",
    "            return (strK, index)\n",
    "        except:\n",
    "            pass     \n",
    "        counter += 1\n",
    " \n",
    "    \n",
    "    \n",
    "K= str(1000)\n",
    "modN = 2\n",
    "\n",
    "bits, period = LSFR(K, modN)\n",
    "print(\"Pattern is:\", bits)\n",
    "print(\"Period of K is:\", period)\n",
    "\n"
   ]
  },
  {
   "cell_type": "markdown",
   "metadata": {},
   "source": [
    "#### 2."
   ]
  },
  {
   "cell_type": "code",
   "execution_count": 3,
   "metadata": {},
   "outputs": [
    {
     "name": "stdout",
     "output_type": "stream",
     "text": [
      "Pattern is: 001100011\n",
      "Period of K is: 5\n"
     ]
    }
   ],
   "source": [
    "K = \"0011\"\n",
    "modN = 2\n",
    "bits, period = LSFR(K, modN)\n",
    "print(\"Pattern is:\", bits)\n",
    "print(\"Period of K is:\", period)"
   ]
  },
  {
   "cell_type": "markdown",
   "metadata": {},
   "source": [
    "#### 3."
   ]
  },
  {
   "cell_type": "code",
   "execution_count": 4,
   "metadata": {},
   "outputs": [
    {
     "name": "stdout",
     "output_type": "stream",
     "text": [
      "Pattern is: 111101111\n",
      "Period of K is: 5\n"
     ]
    }
   ],
   "source": [
    "K = \"1111\"\n",
    "modN = 2\n",
    "bits, period = LSFR(K, modN)\n",
    "\n",
    "print(\"Pattern is:\", bits)\n",
    "print(\"Period of K is:\", period)"
   ]
  },
  {
   "cell_type": "markdown",
   "metadata": {},
   "source": [
    "### 1b)"
   ]
  },
  {
   "cell_type": "code",
   "execution_count": 5,
   "metadata": {},
   "outputs": [],
   "source": [
    "def LSFR_altered(K, modN):\n",
    "    strK = str(K)\n",
    "    firstBin = strK\n",
    "    period = 0\n",
    "    counter = 0;\n",
    "    repeatingPattern = \"\"\n",
    "    \n",
    "    while(True):\n",
    "        strK += str((int(strK[counter]) + int(strK[counter+3]))%modN)\n",
    "        try:\n",
    "            index = strK.index(firstBin, len(K))\n",
    "            return (strK, index)\n",
    "        except:\n",
    "            pass\n",
    "\n",
    "        counter += 1\n"
   ]
  },
  {
   "cell_type": "markdown",
   "metadata": {},
   "source": [
    "#### 1."
   ]
  },
  {
   "cell_type": "code",
   "execution_count": 6,
   "metadata": {},
   "outputs": [
    {
     "name": "stdout",
     "output_type": "stream",
     "text": [
      "Pattern is: 1000111101011001000\n",
      "Period of K is: 15\n"
     ]
    }
   ],
   "source": [
    "K= str(1000)\n",
    "modN = 2\n",
    "\n",
    "bits, period = LSFR_altered(K, modN)\n",
    "print(\"Pattern is:\", bits)\n",
    "print(\"Period of K is:\", period)\n"
   ]
  },
  {
   "cell_type": "markdown",
   "metadata": {},
   "source": [
    "#### 2."
   ]
  },
  {
   "cell_type": "code",
   "execution_count": 7,
   "metadata": {},
   "outputs": [
    {
     "name": "stdout",
     "output_type": "stream",
     "text": [
      "Pattern is: 0011110101100100011\n",
      "Period of K is: 15\n"
     ]
    }
   ],
   "source": [
    "K = \"0011\"\n",
    "modN = 2\n",
    "bits, period = LSFR_altered(K, modN)\n",
    "print(\"Pattern is:\", bits)\n",
    "print(\"Period of K is:\", period)"
   ]
  },
  {
   "cell_type": "markdown",
   "metadata": {},
   "source": [
    "#### 3."
   ]
  },
  {
   "cell_type": "code",
   "execution_count": 8,
   "metadata": {},
   "outputs": [
    {
     "name": "stdout",
     "output_type": "stream",
     "text": [
      "Pattern is: 1111010110010001111\n",
      "Period of K is: 15\n"
     ]
    }
   ],
   "source": [
    "K = \"1111\"\n",
    "modN = 2\n",
    "bits, period = LSFR_altered(K, modN)\n",
    "\n",
    "print(\"Pattern is:\", bits)\n",
    "print(\"Period of K is:\", period)"
   ]
  },
  {
   "cell_type": "markdown",
   "metadata": {},
   "source": [
    "### Task 2a)"
   ]
  },
  {
   "cell_type": "code",
   "execution_count": 9,
   "metadata": {},
   "outputs": [],
   "source": [
    "def alphabet_list():\n",
    "    letters = []\n",
    "    for x in range(26):\n",
    "        letters.append(chr(65+x))\n",
    "        \n",
    "    letters.append('Æ')\n",
    "    letters.append('Ø')\n",
    "    letters.append('Å')\n",
    "    return letters\n",
    "\n",
    "def autokey_encrypt(plaintext, K):\n",
    "    letters = alphabet_list()\n",
    "    letter_to_numbers = []\n",
    "    plaintext_upper = plaintext.upper()\n",
    "    \n",
    "    for letter in plaintext_upper:\n",
    "        index = letters.index(letter)\n",
    "        letter_to_numbers.append(index)\n",
    "        \n",
    "    print(\"Plaintext in number form:\")\n",
    "    print(letter_to_numbers)\n",
    "    cipher_numbers = []\n",
    "    for i, val in enumerate(letter_to_numbers):\n",
    "        if(i==0):\n",
    "            cipher_numbers.append((val+K)%len(letters))\n",
    "        else:\n",
    "            cipher_numbers.append((val+letter_to_numbers[i-1])%len(letters))\n",
    "            \n",
    "    cipher = \"\"\n",
    "    \n",
    "    print(\"Cipher numbers: \")\n",
    "    print(cipher_numbers)\n",
    "    \n",
    "    for number in cipher_numbers:\n",
    "        cipher += letters[number]\n",
    "\n",
    "    return cipher\n",
    "\n",
    "def autokey_decrypt(cipher, K):\n",
    "    letters = alphabet_list()\n",
    "    letter_to_numbers = cipher\n",
    "        \n",
    "    plaintext_numbers = []\n",
    "    previous_value = 0\n",
    "    for i, val in enumerate(letter_to_numbers):\n",
    "        if(i==0):\n",
    "            plaintext_numbers.append((val-K)%len(letters))\n",
    "            previous_value=(val-K)%len(letters)\n",
    "        else:\n",
    "            plaintext_numbers.append((val-previous_value)%len(letters))\n",
    "            previous_value=(val-previous_value)%len(letters)\n",
    "    \n",
    "    plaintext = \"\"\n",
    "    print(\"Numbers decrypted:\")\n",
    "    print(plaintext_numbers)\n",
    "    \n",
    "    for number in plaintext_numbers:\n",
    "        plaintext += letters[number]\n",
    "\n",
    "    return plaintext\n",
    "    \n",
    "def getNumericalValues(plaintext):\n",
    "    letters = alphabet_list()\n",
    "    letter_to_numbers = []\n",
    "    plaintext_upper = plaintext.upper()\n",
    "    \n",
    "    for letter in plaintext_upper:\n",
    "        index = letters.index(letter)\n",
    "        letter_to_numbers.append(index)\n",
    "        \n",
    "    return letter_to_numbers"
   ]
  },
  {
   "cell_type": "code",
   "execution_count": 10,
   "metadata": {},
   "outputs": [
    {
     "name": "stdout",
     "output_type": "stream",
     "text": [
      "Plaintext in number form:\n",
      "[18, 19, 0, 17, 19]\n",
      "Cipher numbers: \n",
      "[10, 8, 19, 17, 7]\n",
      "Encrypted cipher is: KITRH\n"
     ]
    }
   ],
   "source": [
    "K = 21\n",
    "cipher = autokey_encrypt(\"start\", K)\n",
    "print(\"Encrypted cipher is:\", cipher)"
   ]
  },
  {
   "cell_type": "markdown",
   "metadata": {},
   "source": [
    "### Task 2b)"
   ]
  },
  {
   "cell_type": "code",
   "execution_count": 11,
   "metadata": {},
   "outputs": [
    {
     "name": "stdout",
     "output_type": "stream",
     "text": [
      "Numbers decrypted:\n",
      "[5, 4, 17, 3, 8, 6]\n",
      "FERDIG\n"
     ]
    }
   ],
   "source": [
    "cipher = [23, 8, 23, 12, 21, 2, 4, 3, 17, 13, 19]\n",
    "K = 21\n",
    "\n",
    "cipher = \"ÆJVULO\"\n",
    "cipher_numbers = getNumericalValues(cipher)\n",
    "\n",
    "plaintext = autokey_decrypt(cipher_numbers, K)\n",
    "print(plaintext)"
   ]
  },
  {
   "cell_type": "markdown",
   "metadata": {},
   "source": [
    "### Task 3a)"
   ]
  },
  {
   "cell_type": "code",
   "execution_count": 12,
   "metadata": {},
   "outputs": [
    {
     "name": "stdout",
     "output_type": "stream",
     "text": [
      "Generert HMAC-HASH er: 0100\n"
     ]
    }
   ],
   "source": [
    "def H(x):\n",
    "    h = bin(int(math.pow(x, 2) % math.pow(2,8))).replace(\"0b\", \"\")\n",
    "    h_inner = h[2:len(h)-2]\n",
    "    return h_inner\n",
    "\n",
    "def HMAC_HASH(message, K):\n",
    " \n",
    "    ipad_dec = int(\"0011\", 2)\n",
    "\n",
    "    opad_dec = int(\"0101\", 2)\n",
    "    k_dec = int(K, 2) #convert binary to decimal\n",
    "    \n",
    "    #k_dec ^ipad_dec is XOR on the bits, just in integer form.\n",
    "    #bin gives out binary representation of integers.\n",
    "    inner_key = bin(k_dec ^ ipad_dec).replace(\"0b\", \"\")\n",
    "    outer_key = bin(k_dec ^ opad_dec).replace(\"0b\", \"\")\n",
    "    \n",
    "    #Inner HMAC\n",
    "    inner_hash = inner_key+message\n",
    "    inner_hash_dec = int(inner_hash, 2)\n",
    "    h_inner = H(inner_hash_dec)\n",
    "    \n",
    "    #Outer HMAC\n",
    "    outer_hash = outer_key+h_inner\n",
    "    outer_hash_dec = int(outer_hash,2)\n",
    "    h_outer = H(outer_hash_dec)\n",
    "    return h_outer\n",
    "\n",
    "\n",
    "\n",
    "\n",
    "K = \"1001\"\n",
    "message= \"0110\"\n",
    "\n",
    "hmac_hash = HMAC_HASH(message, K)\n",
    "print(\"Generert HMAC-HASH er:\", hmac_hash)\n",
    "\n"
   ]
  },
  {
   "cell_type": "markdown",
   "metadata": {},
   "source": [
    "### 3b)"
   ]
  },
  {
   "cell_type": "code",
   "execution_count": 13,
   "metadata": {},
   "outputs": [
    {
     "name": "stdout",
     "output_type": "stream",
     "text": [
      "Mottat HMAC: 0100  Generert HMAC: 0100\n"
     ]
    }
   ],
   "source": [
    "message_received = \"0111\"\n",
    "hmac_received = \"0100\"\n",
    "gen_received_hmac = HMAC_HASH(message_received, K)\n",
    "print(\"Mottat HMAC:\", hmac_received, \" Generert HMAC:\", gen_received_hmac)"
   ]
  },
  {
   "cell_type": "markdown",
   "metadata": {},
   "source": [
    "Siden mottatt HMAC og generert HMAC er det samme så er det ingen grunn til å tro at meldingen ikke er autentisk."
   ]
  },
  {
   "cell_type": "markdown",
   "metadata": {},
   "source": [
    "### 4)"
   ]
  },
  {
   "cell_type": "code",
   "execution_count": 14,
   "metadata": {},
   "outputs": [
    {
     "name": "stdout",
     "output_type": "stream",
     "text": [
      "CBC-MAC-CÆSAR: [0, 2, 11, 13]\n"
     ]
    }
   ],
   "source": [
    "def Cesar_CBC_MAC(x):\n",
    "    letters = alphabet_list()\n",
    "    IV = int(\"0000\",2)\n",
    "    y_blocks = []\n",
    "\n",
    "    y = IV # INITIALIZASTION VECTOR\n",
    "    for block in x:\n",
    "        block_int = int(block,2)\n",
    "        # ^ is XOR\n",
    "        y = int((int(y ^ block_int)+3) % math.pow(2,4))\n",
    "        y_blocks.append(y)\n",
    "        \n",
    "    return y_blocks\n",
    "        \n",
    "x = [\"1101\", \"1111\", \"1010\", \"0001\"]\n",
    "x_merket = [\"0010\", \"1100\", \"0001\", \"1111\"]\n",
    "\n",
    "x_res = Cesar_CBC_MAC(x)\n",
    "#x_merket_res = Cesar_CBC_MAC(x_merket)\n",
    "\n",
    "print(\"CBC-MAC-CÆSAR:\",x_res)\n",
    "#print(\"CBC-MAC-CÆSAR:\",x_merket_res)"
   ]
  },
  {
   "cell_type": "code",
   "execution_count": 2,
   "metadata": {},
   "outputs": [
    {
     "name": "stdout",
     "output_type": "stream",
     "text": [
      "0b10\n",
      "0b1010\n",
      "0001\n"
     ]
    }
   ],
   "source": [
    "#Not a general CBC-MAC, this one reverses the string.\n",
    "def CBC_MAC(listOfBits):\n",
    "    IV = int(\"0000\",2) #Convert to integer\n",
    "    y = IV # INITIALIZASTION VECTOR\n",
    "    \n",
    "    prev_y = y\n",
    "    for i, block in enumerate(listOfBits):\n",
    "        block_int = int(block,2) #Convert to integer\n",
    "        y_temp = bin(y ^ block_int).replace(\"0b\", \"\") # to binary\n",
    "        LeadingBits = len(block)-len(y_temp) \n",
    "        \n",
    "        #add leading 0 if needed\n",
    "        if(LeadingBits > 0):\n",
    "            y_temp = \"0\"*LeadingBits + y_temp\n",
    "        \n",
    "        #reverse string\n",
    "        y_temp = y_temp[::-1] \n",
    "        \n",
    "        #if last element return yRev\n",
    "        if(i == len(listOfBits)-1):\n",
    "            return y_temp\n",
    "        else:\n",
    "            y = int(y_temp, 2)\n",
    "        print(bin(y))\n",
    "\n",
    "s = \"0100 0111 0010\".split(\" \")\n",
    "\n",
    "res = CBC_MAC(s)\n",
    "print(res)"
   ]
  },
  {
   "cell_type": "markdown",
   "metadata": {},
   "source": [
    "### 5a)"
   ]
  },
  {
   "cell_type": "code",
   "execution_count": 16,
   "metadata": {},
   "outputs": [
    {
     "name": "stdout",
     "output_type": "stream",
     "text": [
      "Encrypted:\n",
      "['0x1a' '0x33' '0x74' '0x90' '0x63' '0x7c' '0x3e' '0x34' '0x9c' '0x8b'\n",
      " '0xed' '0xf3' '0x93' '0xe8' '0x16' '0xc1']\n"
     ]
    }
   ],
   "source": [
    "s_box = [\n",
    "    [0x63, 0x7C, 0x77, 0x7B, 0xF2, 0x6B, 0x6F, 0xC5, 0x30, 0x01, 0x67, 0x2B, 0xFE, 0xD7, 0xAB, 0x76],\n",
    "    [0xCA, 0x82, 0xC9, 0x7D, 0xFA, 0x59, 0x47, 0xF0, 0xAD, 0xD4, 0xA2, 0xAF, 0x9C, 0xA4, 0x72, 0xC0],\n",
    "    [0xB7, 0xFD, 0x93, 0x26, 0x36, 0x3F, 0xF7, 0xCC, 0x34, 0xA5, 0xE5, 0xF1, 0x71, 0xD8, 0x31, 0x15],\n",
    "    [0x04, 0xC7, 0x23, 0xC3, 0x18, 0x96, 0x05, 0x9A, 0x07, 0x12, 0x80, 0xE2, 0xEB, 0x27, 0xB2, 0x75],\n",
    "    [0x09, 0x83, 0x2C, 0x1A, 0x1B, 0x6E, 0x5A, 0xA0, 0x52, 0x3B, 0xD6, 0xB3, 0x29, 0xE3, 0x2F, 0x84],\n",
    "    [0x53, 0xD1, 0x00, 0xED, 0x20, 0xFC, 0xB1, 0x5B, 0x6A, 0xCB, 0xBE, 0x39, 0x4A, 0x4C, 0x58, 0xCF],\n",
    "    [0xD0, 0xEF, 0xAA, 0xFB, 0x43, 0x4D, 0x33, 0x85, 0x45, 0xF9, 0x02, 0x7F, 0x50, 0x3C, 0x9F, 0xA8],\n",
    "    [0x51, 0xA3, 0x40, 0x8F, 0x92, 0x9D, 0x38, 0xF5, 0xBC, 0xB6, 0xDA, 0x21, 0x10, 0xFF, 0xF3, 0xD2],\n",
    "    [0xCD, 0x0C, 0x13, 0xEC, 0x5F, 0x97, 0x44, 0x17, 0xC4, 0xA7, 0x7E, 0x3D, 0x64, 0x5D, 0x19, 0x73],\n",
    "    [0x60, 0x81, 0x4F, 0xDC, 0x22, 0x2A, 0x90, 0x88, 0x46, 0xEE, 0xB8, 0x14, 0xDE, 0x5E, 0x0B, 0xDB],\n",
    "    [0xE0, 0x32, 0x3A, 0x0A, 0x49, 0x06, 0x24, 0x5C, 0xC2, 0xD3, 0xAC, 0x62, 0x91, 0x95, 0xE4, 0x79],\n",
    "    [0xE7, 0xC8, 0x37, 0x6D, 0x8D, 0xD5, 0x4E, 0xA9, 0x6C, 0x56, 0xF4, 0xEA, 0x65, 0x7A, 0xAE, 0x08],\n",
    "    [0xBA, 0x78, 0x25, 0x2E, 0x1C, 0xA6, 0xB4, 0xC6, 0xE8, 0xDD, 0x74, 0x1F, 0x4B, 0xBD, 0x8B, 0x8A],\n",
    "    [0x70, 0x3E, 0xB5, 0x66, 0x48, 0x03, 0xF6, 0x0E, 0x61, 0x35, 0x57, 0xB9, 0x86, 0xC1, 0x1D, 0x9E],\n",
    "    [0xE1, 0xF8, 0x98, 0x11, 0x69, 0xD9, 0x8E, 0x94, 0x9B, 0x1E, 0x87, 0xE9, 0xCE, 0x55, 0x28, 0xDF],\n",
    "    [0x8C, 0xA1, 0x89, 0x0D, 0xBF, 0xE6, 0x42, 0x68, 0x41, 0x99, 0x2D, 0x0F, 0xB0, 0x54, 0xBB, 0x16],\n",
    "]\n",
    "\n",
    "inv_s_box = [\n",
    "    [0x52, 0x09, 0x6A, 0xD5, 0x30, 0x36, 0xA5, 0x38, 0xBF, 0x40, 0xA3, 0x9E, 0x81, 0xF3, 0xD7, 0xFB],\n",
    "    [0x7C, 0xE3, 0x39, 0x82, 0x9B, 0x2F, 0xFF, 0x87, 0x34, 0x8E, 0x43, 0x44, 0xC4, 0xDE, 0xE9, 0xCB],\n",
    "    [0x54, 0x7B, 0x94, 0x32, 0xA6, 0xC2, 0x23, 0x3D, 0xEE, 0x4C, 0x95, 0x0B, 0x42, 0xFA, 0xC3, 0x4E],\n",
    "    [0x08, 0x2E, 0xA1, 0x66, 0x28, 0xD9, 0x24, 0xB2, 0x76, 0x5B, 0xA2, 0x49, 0x6D, 0x8B, 0xD1, 0x25],\n",
    "    [0x72, 0xF8, 0xF6, 0x64, 0x86, 0x68, 0x98, 0x16, 0xD4, 0xA4, 0x5C, 0xCC, 0x5D, 0x65, 0xB6, 0x92],\n",
    "    [0x6C, 0x70, 0x48, 0x50, 0xFD, 0xED, 0xB9, 0xDA, 0x5E, 0x15, 0x46, 0x57, 0xA7, 0x8D, 0x9D, 0x84],\n",
    "    [0x90, 0xD8, 0xAB, 0x00, 0x8C, 0xBC, 0xD3, 0x0A, 0xF7, 0xE4, 0x58, 0x05, 0xB8, 0xB3, 0x45, 0x06],\n",
    "    [0xD0, 0x2C, 0x1E, 0x8F, 0xCA, 0x3F, 0x0F, 0x02, 0xC1, 0xAF, 0xBD, 0x03, 0x01, 0x13, 0x8A, 0x6B],\n",
    "    [0x3A, 0x91, 0x11, 0x41, 0x4F, 0x67, 0xDC, 0xEA, 0x97, 0xF2, 0xCF, 0xCE, 0xF0, 0xB4, 0xE6, 0x73],\n",
    "    [0x96, 0xAC, 0x74, 0x22, 0xE7, 0xAD, 0x35, 0x85, 0xE2, 0xF9, 0x37, 0xE8, 0x1C, 0x75, 0xDF, 0x6E],\n",
    "    [0x47, 0xF1, 0x1A, 0x71, 0x1D, 0x29, 0xC5, 0x89, 0x6F, 0xB7, 0x62, 0x0E, 0xAA, 0x18, 0xBE, 0x1B],\n",
    "    [0xFC, 0x56, 0x3E, 0x4B, 0xC6, 0xD2, 0x79, 0x20, 0x9A, 0xDB, 0xC0, 0xFE, 0x78, 0xCD, 0x5A, 0xF4],\n",
    "    [0x1F, 0xDD, 0xA8, 0x33, 0x88, 0x07, 0xC7, 0x31, 0xB1, 0x12, 0x10, 0x59, 0x27, 0x80, 0xEC, 0x5F],\n",
    "    [0x60, 0x51, 0x7F, 0xA9, 0x19, 0xB5, 0x4A, 0x0D, 0x2D, 0xE5, 0x7A, 0x9F, 0x93, 0xC9, 0x9C, 0xEF],\n",
    "    [0xA0, 0xE0, 0x3B, 0x4D, 0xAE, 0x2A, 0xF5, 0xB0, 0xC8, 0xEB, 0xBB, 0x3C, 0x83, 0x53, 0x99, 0x61],\n",
    "    [0x17, 0x2B, 0x04, 0x7E, 0xBA, 0x77, 0xD6, 0x26, 0xE1, 0x69, 0x14, 0x63, 0x55, 0x21, 0x0C, 0x7D],\n",
    "]\n",
    "\n",
    "s_np = np.array(s_box)\n",
    "s_inv_np = np.array(inv_s_box)\n",
    "\n",
    "\n",
    "def addRoundKey(x, privateKey):\n",
    "    arr = []\n",
    "    \n",
    "    for i, (row1, row2) in enumerate(zip(x, privateKey)):\n",
    "        for j, (col1, col2) in enumerate(zip(row1, row2)):\n",
    "            msgCol = int(col1, 16)\n",
    "            keyCol = int(col2, 16)\n",
    "            \n",
    "            xor = hex(msgCol^keyCol)[2:]\n",
    "            if(len(xor) == 1):\n",
    "                arr.append(\"0x0\"+xor)\n",
    "            else:\n",
    "                arr.append(\"0x\"+ xor)\n",
    "            \n",
    "    matrix = np.array(arr).reshape((4,4))\n",
    "    return matrix\n",
    "\n",
    "def subBytes(x):\n",
    "    arr = []\n",
    "    \n",
    "    for row in x:\n",
    "        for col in row:\n",
    "            if(len(col[2:]) == 1):\n",
    "                colIndex = int(col[2:], 16)\n",
    "                temp = hex(s_np[0][colIndex])[2:]\n",
    "                if(len(temp) == 1):\n",
    "                    arr.append(\"0x0\"+temp)\n",
    "                else:\n",
    "                    arr.append(\"0x\"+temp)\n",
    "            else:\n",
    "                rowIndex = int(col[2:][0], 16)\n",
    "                colIndex = int(col[2:][1], 16)\n",
    "                temp = hex(s_np[rowIndex][colIndex])[2:]\n",
    "                if(len(temp) == 1):\n",
    "                    arr.append(\"0x0\"+temp)\n",
    "                else:\n",
    "                    arr.append(hex(s_np[rowIndex][colIndex]))\n",
    "          \n",
    "           \n",
    "    matrix = np.array(arr).reshape((4,4))\n",
    "    return matrix\n",
    "\n",
    "def reverseSubBytes(x):\n",
    "    arr = []\n",
    "    \n",
    "    for row in x:\n",
    "        for col in row:\n",
    "            if(len(col[2:]) == 1):\n",
    "                colIndex = int(col[2:], 16)\n",
    "                temp = hex(s_inv_np[0][colIndex])[2:]\n",
    "                if(len(temp) == 1):\n",
    "                    arr.append(\"0x0\"+temp)\n",
    "                else:\n",
    "                    arr.append(\"0x\"+temp)\n",
    "            else:\n",
    "                rowIndex = int(col[2:][0], 16)\n",
    "                colIndex = int(col[2:][1], 16)\n",
    "                temp = hex(s_inv_np[rowIndex][colIndex])[2:]\n",
    "                if(len(temp) == 1):\n",
    "                    arr.append(\"0x0\"+temp)\n",
    "                else:\n",
    "                    arr.append(hex(s_inv_np[rowIndex][colIndex]))\n",
    "          \n",
    "           \n",
    "    matrix = np.array(arr).reshape((4,4))\n",
    "    return matrix\n",
    "            \n",
    "     \n",
    "def shiftRows(x):\n",
    "    array = [\"        \" for i in range(16)]\n",
    "    matrix = np.array(array).reshape((4,4))\n",
    "\n",
    "    rowArr = []\n",
    "    for row in range(len(x)):\n",
    "        for col in range(len(x)):\n",
    "            if(row == 0):\n",
    "                if(len(x[row][col][2:]) ==1):\n",
    "                    matrix[row][col] = \"0x0\"+x[row][col][2:]\n",
    "                else: \n",
    "                    matrix[row][col] = x[row][col]\n",
    "            else:\n",
    "                shiftIndex = (col+row)%len(x)\n",
    "                temp = x[row][shiftIndex]\n",
    "                if(len(temp[2:]) == 1):\n",
    "                    matrix[row][col] = \"0x0\"+temp[2:]\n",
    "                else:\n",
    "                    matrix[row][col] = x[row][shiftIndex]\n",
    "    return matrix\n",
    "                \n",
    "    \n",
    "def reverseShift(x):\n",
    "    array = [\"        \" for i in range(16)]\n",
    "    matrix = np.array(array).reshape((4,4))\n",
    "\n",
    "    rowArr = []\n",
    "    for row in range(len(x)):\n",
    "        for col in range(len(x)):\n",
    "            if(row == 0):\n",
    "                if(len(x[row][col][2:]) ==1):\n",
    "                    matrix[row][col] = \"0x0\"+x[row][col][2:]\n",
    "                else: \n",
    "                    matrix[row][col] = x[row][col]\n",
    "            else:\n",
    "                shiftIndex = (col-row)%len(x)\n",
    "                temp = x[row][shiftIndex]\n",
    "                if(len(temp[2:]) == 1):\n",
    "                    matrix[row][col] = \"0x0\"+temp[2:]\n",
    "                else:\n",
    "                    matrix[row][col] = x[row][shiftIndex]\n",
    "    return matrix \n",
    "\n",
    "def AES_Encrypt(plaintext, privateKey):\n",
    "    np_plain = np.array(plaintext).reshape((4,4)).T\n",
    "    np_privateKey = np.array(privateKey).reshape((4,4)).T\n",
    "        \n",
    "    round_ = addRoundKey(np_plain, np_privateKey)\n",
    "    sub_ = subBytes(round_)\n",
    "    shift_ = shiftRows(sub_)\n",
    "    return shift_.reshape((1,-1)).squeeze()\n",
    "    \n",
    "    \n",
    "def AES_Decrypt(cipher, privateKey):\n",
    "    np_cipher = np.array(cipher).reshape((4,4)).T\n",
    "    np_privateKey = np.array(privateKey).reshape((4,4)).T\n",
    "    \n",
    "    rev_shift = reverseShift(np_cipher)\n",
    "    rev_sub = reverseSubBytes(rev_shift)\n",
    "    round_ = addRoundKey(rev_sub, np_privateKey)\n",
    "    return round_.reshape((1,-1)).squeeze()\n",
    "        \n",
    "startKeyArr = \"67 71 35 c4 ff da e5 ff 1c 54 e1 fd 7f 2e 88 b7\".split(\" \")\n",
    "messageArr = \"24 59 66 0c 99 da 9b 00 d6 55 fd 20 e9 ff 46 95\".split(\" \")\n",
    "\n",
    "\n",
    "encrypted = AES_Encrypt(messageArr, startKeyArr)\n",
    "print(\"Encrypted:\")\n",
    "print(encrypted)\n",
    "#listToASCII(encrypted)\n",
    "\n",
    "\n"
   ]
  },
  {
   "cell_type": "markdown",
   "metadata": {},
   "source": [
    "### 5b)\n"
   ]
  },
  {
   "cell_type": "code",
   "execution_count": 17,
   "metadata": {},
   "outputs": [
    {
     "name": "stdout",
     "output_type": "stream",
     "text": [
      "Decrypted:\n",
      "['0x44' '0x05' '0x94' '0xaf' '0x2e' '0xce' '0xd4' '0xbd' '0x09' '0xaf'\n",
      " '0xa0' '0x05' '0x5e' '0xc6' '0x14' '0x07']\n"
     ]
    }
   ],
   "source": [
    "#TODO: FIX TRANPOSE SO THAT IT WORKS FOR EVERYTHING, ASSIGNMENT STILL FINISHED THOUGH.\n",
    "\n",
    "cipher = \"0x26 0xFA 0x83 0xE7 0x2D 0xCD 0x5D 0xB8 0xC4 0xDC 0xEB 0x12 0x70 0xCF 0xD6 0x1E\".split(\" \")\n",
    "decrypted = AES_Decrypt(cipher, startKeyArr)\n",
    "print(\"Decrypted:\")\n",
    "print(decrypted)"
   ]
  },
  {
   "cell_type": "markdown",
   "metadata": {},
   "source": [
    "### 6)"
   ]
  },
  {
   "cell_type": "code",
   "execution_count": 18,
   "metadata": {},
   "outputs": [
    {
     "name": "stdout",
     "output_type": "stream",
     "text": [
      "Generert rundenøkler, kolonner er ord:\n",
      "[['0xe5' '0xcd' '0x66' '0x6f']\n",
      " ['0x31' '0x9f' '0x68' '0xa7']\n",
      " ['0x29' '0xfb' '0xee' '0xa1']\n",
      " ['0x1f' '0xb9' '0x31' '0xd']]\n"
     ]
    }
   ],
   "source": [
    "Rcon = [\n",
    "\"0x8d\", \"0x01\", \"0x02\", \"0x04\", \"0x08\", \"0x10\", \"0x20\", \"0x40\", \"0x80\", \"0x1b\", \"0x36\", \"0x6c\", \"0xd8\", \"0xab\", \"0x4d\", \"0x9a\", \n",
    "\"0x2f\", \"0x5e\", \"0xbc\", \"0x63\", \"0xc6\", \"0x97\", \"0x35\", \"0x6a\", \"0xd4\", \"0xb3\", \"0x7d\", \"0xfa\", \"0xef\", \"0xc5\", \"0x91\", \"0x39\", \n",
    "\"0x72\", \"0xe4\", \"0xd3\", \"0xbd\", \"0x61\", \"0xc2\", \"0x9f\", \"0x25\", \"0x4a\", \"0x94\", \"0x33\", \"0x66\", \"0xcc\", \"0x83\", \"0x1d\", \"0x3a\", \n",
    "\"0x74\", \"0xe8\", \"0xcb\", \"0x8d\", \"0x01\", \"0x02\", \"0x04\", \"0x08\", \"0x10\", \"0x20\", \"0x40\", \"0x80\", \"0x1b\", \"0x36\", \"0x6c\", \"0xd8\", \n",
    "\"0xab\", \"0x4d\", \"0x9a\", \"0x2f\", \"0x5e\", \"0xbc\", \"0x63\", \"0xc6\", \"0x97\", \"0x35\", \"0x6a\", \"0xd4\", \"0xb3\", \"0x7d\", \"0xfa\", \"0xef\", \n",
    "\"0xc5\", \"0x91\", \"0x39\", \"0x72\", \"0xe4\", \"0xd3\", \"0xbd\", \"0x61\", \"0xc2\", \"0x9f\", \"0x25\", \"0x4a\", \"0x94\", \"0x33\", \"0x66\", \"0xcc\", \n",
    "\"0x83\", \"0x1d\", \"0x3a\", \"0x74\", \"0xe8\", \"0xcb\", \"0x8d\", \"0x01\", \"0x02\", \"0x04\", \"0x08\", \"0x10\", \"0x20\", \"0x40\", \"0x80\", \"0x1b\", \n",
    "\"0x36\", \"0x6c\", \"0xd8\", \"0xab\", \"0x4d\", \"0x9a\", \"0x2f\", \"0x5e\", \"0xbc\", \"0x63\", \"0xc6\", \"0x97\", \"0x35\", \"0x6a\", \"0xd4\", \"0xb3\", \n",
    "\"0x7d\", \"0xfa\", \"0xef\", \"0xc5\", \"0x91\", \"0x39\", \"0x72\", \"0xe4\", \"0xd3\", \"0xbd\", \"0x61\", \"0xc2\", \"0x9f\", \"0x25\", \"0x4a\", \"0x94\", \n",
    "\"0x33\", \"0x66\", \"0xcc\", \"0x83\", \"0x1d\", \"0x3a\", \"0x74\", \"0xe8\", \"0xcb\", \"0x8d\", \"0x01\", \"0x02\", \"0x04\", \"0x08\", \"0x10\", \"0x20\", \n",
    "\"0x40\", \"0x80\", \"0x1b\", \"0x36\", \"0x6c\", \"0xd8\", \"0xab\", \"0x4d\", \"0x9a\", \"0x2f\", \"0x5e\", \"0xbc\", \"0x63\", \"0xc6\", \"0x97\", \"0x35\", \n",
    "\"0x6a\", \"0xd4\", \"0xb3\", \"0x7d\", \"0xfa\", \"0xef\", \"0xc5\", \"0x91\", \"0x39\", \"0x72\", \"0xe4\", \"0xd3\", \"0xbd\", \"0x61\", \"0xc2\", \"0x9f\", \n",
    "\"0x25\", \"0x4a\", \"0x94\", \"0x33\", \"0x66\", \"0xcc\", \"0x83\", \"0x1d\", \"0x3a\", \"0x74\", \"0xe8\", \"0xcb\", \"0x8d\", \"0x01\", \"0x02\", \"0x04\", \n",
    "\"0x08\", \"0x10\", \"0x20\", \"0x40\", \"0x80\", \"0x1b\", \"0x36\", \"0x6c\", \"0xd8\", \"0xab\", \"0x4d\", \"0x9a\", \"0x2f\", \"0x5e\", \"0xbc\", \"0x63\", \n",
    "\"0xc6\", \"0x97\", \"0x35\", \"0x6a\", \"0xd4\", \"0xb3\", \"0x7d\", \"0xfa\", \"0xef\", \"0xc5\", \"0x91\", \"0x39\", \"0x72\", \"0xe4\", \"0xd3\", \"0xbd\", \n",
    "\"0x61\", \"0xc2\", \"0x9f\", \"0x25\", \"0x4a\", \"0x94\", \"0x33\", \"0x66\", \"0xcc\", \"0x83\", \"0x1d\", \"0x3a\", \"0x74\", \"0xe8\", \"0xcb\"\n",
    "]\n",
    "\n",
    "\n",
    "def rotWord(x): \n",
    "    new_arr = np.roll(x,-1)\n",
    "    return new_arr\n",
    "\n",
    "\n",
    "\n",
    "def genRoundKey(orig, rotword, roundNr, xorRcon=False):\n",
    "    out = []\n",
    "    for x in range(len(orig)):\n",
    "        if(x == 0):\n",
    "            valOrig = int(orig[x], 16)\n",
    "            valRot = int(rotword[x],16)\n",
    "            valRcon = int(Rcon[roundNr], 16)\n",
    "            if(xorRcon):\n",
    "                roundKey = hex((valOrig^valRot)^valRcon)\n",
    "            else:\n",
    "                roundKey = hex(valOrig^valRot)\n",
    "            out.append(roundKey)\n",
    "        else:\n",
    "            valOrig = int(orig[x], 16)\n",
    "            valRot = int(rotword[x],16)\n",
    "            valRcon = int(\"0x00\", 16)\n",
    "            if(xorRcon):\n",
    "                roundKey = hex((valOrig^valRot)^valRcon)\n",
    "            else:\n",
    "                roundKey = hex(valOrig^valRot)\n",
    "            out.append(roundKey)\n",
    "    \n",
    "    return out\n",
    "    \n",
    "\n",
    "def stackBeginningKey(array):\n",
    "    new_arr = []\n",
    "    \n",
    "    for x in range(0,len(array), 4):\n",
    "        new_arr.append([array[x], array[x+1], array[x+2], array[x+3]])\n",
    "    \n",
    "    return np.array(new_arr)\n",
    "    \n",
    "\n",
    "def keyScheduler(startKey):\n",
    "    keyColumns = stackBeginningKey(startKey)\n",
    "    \n",
    "    genRound = []\n",
    "    \n",
    "    for x in range(4):\n",
    "        if(x == 0):          \n",
    "            res_rotWord = rotWord(keyColumns[-1])\n",
    "            res_genRound = genRoundKey(keyColumns[x], res_rotWord, 1, xorRcon=True)\n",
    "            genRound.append(res_genRound)\n",
    "        else:\n",
    "            res_genRound = genRoundKey(keyColumns[x], genRound[-1], 1, xorRcon=False)\n",
    "            genRound.append(res_genRound)\n",
    "            \n",
    "    np_GEN = np.array(genRound).reshape((4,4)).T\n",
    "    return np_GEN\n",
    "\n",
    "    \n",
    "        \n",
    "\n",
    "key = \"2B 7E 15 16 28 AE D2 A6 AB F7 15 88 09 CF 4F 3C\".split(\" \")\n",
    "\n",
    "keys = keyScheduler(key)\n",
    "print(\"Generert rundenøkler, kolonner er ord:\")\n",
    "print(keys)"
   ]
  },
  {
   "cell_type": "code",
   "execution_count": null,
   "metadata": {},
   "outputs": [],
   "source": []
  }
 ],
 "metadata": {
  "kernelspec": {
   "display_name": "Python 3",
   "language": "python",
   "name": "python3"
  },
  "language_info": {
   "codemirror_mode": {
    "name": "ipython",
    "version": 3
   },
   "file_extension": ".py",
   "mimetype": "text/x-python",
   "name": "python",
   "nbconvert_exporter": "python",
   "pygments_lexer": "ipython3",
   "version": "3.8.2"
  }
 },
 "nbformat": 4,
 "nbformat_minor": 4
}
