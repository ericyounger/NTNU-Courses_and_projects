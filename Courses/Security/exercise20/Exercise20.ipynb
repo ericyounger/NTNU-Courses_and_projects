{
 "cells": [
  {
   "cell_type": "code",
   "execution_count": 2,
   "metadata": {},
   "outputs": [],
   "source": [
    "import math\n",
    "import numpy as np\n",
    "import pandas as pd "
   ]
  },
  {
   "cell_type": "markdown",
   "metadata": {},
   "source": [
    "#### 1a)"
   ]
  },
  {
   "cell_type": "code",
   "execution_count": 38,
   "metadata": {},
   "outputs": [
    {
     "name": "stdout",
     "output_type": "stream",
     "text": [
      "Ordene i z11 er:\n",
      "[(1, 1), (2, 10), (3, 5), (4, 5), (5, 5), (6, 10), (7, 10), (8, 10), (9, 5), (10, 2)]\n",
      "\n",
      "Brettet ser slik ut:\n",
      "[[ 2.  4.  8.  5. 10.  9.  7.  3.  6.  1.]\n",
      " [ 3.  9.  5.  4.  1.  3.  9.  5.  4.  1.]\n",
      " [ 4.  5.  9.  3.  1.  4.  5.  9.  3.  1.]\n",
      " [ 5.  3.  4.  9.  1.  5.  3.  4.  9.  1.]\n",
      " [ 6.  3.  7.  9. 10.  5.  8.  4.  2.  1.]\n",
      " [ 7.  5.  2.  3. 10.  4.  6.  9.  8.  1.]\n",
      " [ 8.  9.  6.  4. 10.  3.  2.  5.  7.  1.]\n",
      " [ 9.  4.  3.  5.  1.  9.  4.  3.  5.  1.]\n",
      " [10.  1. 10.  1. 10.  1. 10.  1. 10.  1.]]\n"
     ]
    }
   ],
   "source": [
    "def findOrderOfZ(p):\n",
    "    columnsNumbers = [x for x in range(1,p)]\n",
    "    rowNumbers = [x for x in range(2,p)]\n",
    "    board = np.zeros((p-2,p-1))\n",
    "    \n",
    "    orders = []\n",
    "    orders.append((1,1))\n",
    "    for row in range(2,p):\n",
    "        foundLowest = False\n",
    "        for col in range(1,p):\n",
    "            temp = (row**col)%p\n",
    "            board[row-2][col-1] = temp\n",
    "            if((temp == 1) and (foundLowest == False)): \n",
    "                orders.append((row, col))\n",
    "                foundLowest = True\n",
    "                \n",
    "    return (board, orders)\n",
    "\n",
    "z = 11\n",
    "board, orders = findOrderOfZ(z)\n",
    "print(\"Ordene i z{} er:\".format(z))\n",
    "print(orders)\n",
    "print(\"\\nBrettet ser slik ut:\")\n",
    "print(board)\n",
    "    "
   ]
  },
  {
   "cell_type": "markdown",
   "metadata": {},
   "source": [
    "#### 1b)"
   ]
  },
  {
   "cell_type": "code",
   "execution_count": 94,
   "metadata": {},
   "outputs": [
    {
     "name": "stdout",
     "output_type": "stream",
     "text": [
      "[[10.  1.  8.  2.  4.  9.  7.  3.  6.  5.]\n",
      " [ 5. -1.  1.  4.  3. -1. -1. -1.  2. -1.]\n",
      " [ 5. -1.  4.  1.  2. -1. -1. -1.  3. -1.]\n",
      " [ 5. -1.  2.  3.  1. -1. -1. -1.  4. -1.]\n",
      " [10.  9.  2.  8.  6.  1.  3.  7.  4.  5.]\n",
      " [10.  3.  4.  6.  2.  7.  1.  9.  8.  5.]\n",
      " [10.  7.  6.  4.  8.  3.  9.  1.  2.  5.]\n",
      " [ 5. -1.  3.  2.  4. -1. -1. -1.  1. -1.]\n",
      " [ 2. -1. -1. -1. -1. -1. -1. -1. -1.  1.]]\n"
     ]
    }
   ],
   "source": [
    "def LogaritmerAvZ(matrix):\n",
    "    out = matrix\n",
    "    a = 2\n",
    "    b = 1\n",
    "    for i, row in enumerate(matrix): \n",
    "        for j, col in enumerate(row):\n",
    "            res = LogModular(a, b, len(row)+1)\n",
    "            if(res):\n",
    "                out[i][j] = res\n",
    "            else:\n",
    "                out[i][j] = '-1'\n",
    "            b += 1\n",
    "        a += 1\n",
    "        b = 1\n",
    "    return out\n",
    "\n",
    "        \n",
    "def LogModular(base, beta, n):\n",
    "    for x in range(1,12):\n",
    "        res = (base**x)%n\n",
    "        if(res == beta):\n",
    "            return x\n",
    "\n",
    "#LogModular(2, 1, 11)\n",
    "res = LogaritmerAvZ(board)\n",
    "print(res)"
   ]
  },
  {
   "cell_type": "markdown",
   "metadata": {},
   "source": [
    "#### 2.1)"
   ]
  },
  {
   "cell_type": "code",
   "execution_count": 34,
   "metadata": {},
   "outputs": [
    {
     "name": "stdout",
     "output_type": "stream",
     "text": [
      "Primitivt element i Z_41 er alpha=5 med beta=22\n"
     ]
    }
   ],
   "source": [
    "def findFirstPrimitiveElement(arr, p):\n",
    "    for i in range(len(arr)):\n",
    "        if(arr[i][1] == p-1):\n",
    "            return (arr[i][0], arr[i][1])\n",
    "    \n",
    "board, orders = findOrderOfZ(23)\n",
    "result = findFirstPrimitiveElement(orders, 23)\n",
    "print(\"Primitivt element i Z_41 er alpha={} med beta={}\".format(result[0], result[1]))"
   ]
  },
  {
   "cell_type": "markdown",
   "metadata": {},
   "source": [
    "#### 2.2)"
   ]
  },
  {
   "cell_type": "code",
   "execution_count": null,
   "metadata": {},
   "outputs": [],
   "source": []
  },
  {
   "cell_type": "markdown",
   "metadata": {},
   "source": [
    "#### 2.3)"
   ]
  },
  {
   "cell_type": "code",
   "execution_count": null,
   "metadata": {},
   "outputs": [],
   "source": []
  },
  {
   "cell_type": "markdown",
   "metadata": {},
   "source": [
    "#### 2.4)"
   ]
  },
  {
   "cell_type": "code",
   "execution_count": 230,
   "metadata": {},
   "outputs": [
    {
     "name": "stdout",
     "output_type": "stream",
     "text": [
      "Number of primitive elements is 16\n"
     ]
    }
   ],
   "source": [
    "def FindNoOfPrimitiveElements(arr):\n",
    "    n = len(arr)+1\n",
    "    \n",
    "    counter = 0\n",
    "    for i in range(len(arr)):\n",
    "        if(arr[i][1] == n-1):\n",
    "            counter += 1\n",
    "    return counter\n",
    "            \n",
    "    \n",
    "\n",
    "board, orders = findOrderOfZ(41)\n",
    "\n",
    "result = FindNoOfPrimitiveElements(orders)\n",
    "print(\"Number of primitive elements is {}\".format(result))"
   ]
  },
  {
   "cell_type": "code",
   "execution_count": null,
   "metadata": {},
   "outputs": [],
   "source": []
  },
  {
   "cell_type": "markdown",
   "metadata": {},
   "source": [
    "#### 3)"
   ]
  },
  {
   "cell_type": "code",
   "execution_count": null,
   "metadata": {},
   "outputs": [],
   "source": []
  },
  {
   "cell_type": "markdown",
   "metadata": {},
   "source": [
    "#### 4.1)"
   ]
  },
  {
   "cell_type": "code",
   "execution_count": null,
   "metadata": {},
   "outputs": [],
   "source": [
    "n, e = (437, 13)\n",
    "public_key = (n, e)\n",
    "\n",
    "n,d = (437, 61)\n",
    "private_key = (n,d)\n",
    "\n",
    "alice_receive_1 = (78,394)\n",
    "alice_receive_2 = (123,289)\n",
    "\n",
    "def rsa_verify(m:tuple,public_key:tuple):\n",
    "    x,y = m\n",
    "    n, e = public_key\n",
    "    res = rsa_encrypt(y,e,n)%n\n",
    "    if(x == res):\n",
    "        return \"gyldig\"\n",
    "    else:\n",
    "        return \"ikke gyldig\"\n",
    "    \n",
    "def rsa_encrypt(m:int, e:int, n:int):\n",
    "    return (m**e)% n\n",
    "\n",
    "def rsa_decrypt(cipher:int, d:int, n:int):\n",
    "    return (cipher**d)% n\n",
    "\n",
    "alice_verify = rsa_verify(alice_receive_1, public_key)\n",
    "print(\"For (78, 394) så er signaturen\", alice_verify)\n",
    "\n",
    "alice_verify2 = rsa_verify(alice_receive_2, public_key)\n",
    "print(\"For (123, 289) så er signaturen\", alice_verify2)"
   ]
  },
  {
   "cell_type": "markdown",
   "metadata": {},
   "source": [
    "#### 4.2)"
   ]
  },
  {
   "cell_type": "code",
   "execution_count": null,
   "metadata": {},
   "outputs": [],
   "source": []
  },
  {
   "cell_type": "markdown",
   "metadata": {},
   "source": [
    "#### 4.3)"
   ]
  },
  {
   "cell_type": "code",
   "execution_count": null,
   "metadata": {},
   "outputs": [],
   "source": []
  },
  {
   "cell_type": "markdown",
   "metadata": {},
   "source": [
    "#### 4.4)"
   ]
  },
  {
   "cell_type": "code",
   "execution_count": null,
   "metadata": {},
   "outputs": [],
   "source": [
    "def rsa_sign(m:int, private_key:tuple):\n",
    "    n, d = private_key\n",
    "    res = rsa_decrypt(m,d, n)\n",
    "    return (m, res)\n",
    "\n",
    "def rsa_encrypt_signed(m:tuple, key:tuple):\n",
    "    x,y = m\n",
    "    n, e = key\n",
    "    x1 =(x**e)% n\n",
    "    y1 = (y**e)% n\n",
    "    return (x1,y1)\n",
    "\n",
    "def rsa_decrypt_signed(cipher:tuple, private_key:tuple):\n",
    "    x, y = cipher\n",
    "    n, d = private_key\n",
    "    x1 = (x**d)%n\n",
    "    y1 = (y**d)%n\n",
    "    return (x1,y1)\n",
    "\n",
    "#Signer først, så krypter.\n",
    "\n",
    "#Alice stuff\n",
    "n = 731\n",
    "d = 19\n",
    "e = 283\n",
    "alice_public_key = (n,e)\n",
    "alice_private_key = (n,d)\n",
    "\n",
    "#bob stuff\n",
    "n_bob = 437\n",
    "e_bob = 13\n",
    "d_bob = 61\n",
    "\n",
    "bob_public_key = (n_bob, e_bob)\n",
    "bob_private_key = (n_bob, d_bob)\n",
    "\n",
    "m = 109\n",
    "\n",
    "#Step 1: Sign\n",
    "print(\"Before sign and encrypt=\", m)\n",
    "x,y = rsa_sign(m, alice_private_key)\n",
    "print(\"After sign=\", x,y)\n",
    "\n",
    "\n",
    "#Step 2: Encrypt\n",
    "encrypted = rsa_encrypt_signed((x,y), bob_public_key)\n",
    "print(\"After encryption\", encrypted)\n",
    "print(\"Meldingen m={} blir til slutt {}\".format(m,encrypted))\n",
    "\n",
    "#Test to see if this is correct\n",
    "decrypted = rsa_decrypt_signed(encrypted, bob_private_key)\n",
    "print(\"\\nTest correctness of sign and encrypt:\")\n",
    "print(\"Decrypted=\",decrypted )\n",
    "verify = rsa_verify(decrypted, alice_public_key)\n",
    "print(verify)\n",
    "\n",
    "\n",
    "\n"
   ]
  },
  {
   "cell_type": "markdown",
   "metadata": {},
   "source": [
    "#### 5.1)"
   ]
  },
  {
   "cell_type": "markdown",
   "metadata": {},
   "source": [
    "Alice har satt opp ElGamal-signering basert på $13^{15}\\bmod{37} = 29$  \n",
    "   \n",
    "Offentlig del av nøkkelen:  \n",
    "p = 37  \n",
    "alpha = 13  \n",
    "beta = 29   \n",
    "privat del av eksponenten er a = 15"
   ]
  },
  {
   "cell_type": "markdown",
   "metadata": {},
   "source": [
    "#### 5.2)"
   ]
  },
  {
   "cell_type": "markdown",
   "metadata": {},
   "source": [
    "Hun ønsker å signere meldingen 14 og 3 med henholdsvis   \n",
    "k= 11 og k= 5.   \n",
    "\n",
    "Hva blir signaturene?"
   ]
  },
  {
   "cell_type": "code",
   "execution_count": 103,
   "metadata": {},
   "outputs": [
    {
     "name": "stdout",
     "output_type": "stream",
     "text": [
      "(15, 7)\n",
      "(35, 18)\n"
     ]
    }
   ],
   "source": [
    "def egcd(a, b):\n",
    "    if a == 0:\n",
    "        return (b, 0, 1)\n",
    "    else:\n",
    "        gcd, x, y = egcd(b % a, a)\n",
    "        return (gcd, y - (b//a) * x, x)\n",
    "\n",
    "def elGamalSign(message, k, p):\n",
    "    n, alpha, a, beta = p\n",
    "    \n",
    "    __, x, _ = egcd(k, n-1)\n",
    "    \n",
    "    x = x%n-1\n",
    "    y = pow(alpha,k,n)\n",
    "    s =  ((message-a*y)*x)%(n-1)\n",
    "    return (y, s)\n",
    "\n",
    "\n",
    "public_key = (37, 13, 15, 29) # p(same as n), alpha, a, beta\n",
    "\n",
    "m1 = 14\n",
    "k1 = 11\n",
    "\n",
    "res = elGamalSign(m1, k1, public_key)\n",
    "print(res)\n",
    "\n",
    "#print(elGamalEncrypt())\n",
    "\n",
    "m2 = 3\n",
    "k2 = 5\n",
    "\n",
    "res2 = elGamalSign(m2, k2, public_key)\n",
    "print(res2)"
   ]
  },
  {
   "cell_type": "markdown",
   "metadata": {},
   "source": [
    "#### 5.3)"
   ]
  },
  {
   "cell_type": "code",
   "execution_count": null,
   "metadata": {},
   "outputs": [],
   "source": [
    "def elGamalVerify(message, signature, p):\n",
    "    n, alpha, a, beta = p\n",
    "    r, s = signature\n",
    "\n",
    "    if not((r >= 1) or (r <= (n-1))):\n",
    "        return False\n",
    "\n",
    "    v1 = ((beta**r)*(r**s))%n\n",
    "    v2 = (alpha**message)%n\n",
    "    \n",
    "    print(\"V1=({}) vs V2=({})\".format(v1,v2))\n",
    "    return (v1 == v2)\n",
    "\n",
    "\n",
    "message = 32\n",
    "signature = (19,6)\n",
    "\n",
    "\n",
    "verifiedMessage = elGamalVerify(message, signature, public_key)\n",
    "print(\"Melding1 er \", verifiedMessage, \"\\n\")\n",
    "\n",
    "\n",
    "message2 = 9\n",
    "signature2 = (32,16)\n",
    "\n",
    "verifiedMessage2 = elGamalVerify(message2, signature2, public_key)\n",
    "print(\"Melding2 er \", verifiedMessage2, \"\\n\")\n"
   ]
  },
  {
   "cell_type": "code",
   "execution_count": null,
   "metadata": {},
   "outputs": [],
   "source": [
    "import random\n",
    "def elGamalEncrypt(message, keys, K_par=None):\n",
    "    x = message\n",
    "    p, alpha, a, beta = keys\n",
    "    if(K_par == None):\n",
    "        K = random.randint(0, 10)\n",
    "    else:\n",
    "        K = K_par\n",
    "    \n",
    "    alphaPowerK = (alpha**K)%p\n",
    "    betaPowerK  = (beta**K)%p\n",
    "    xTimesBetaPowerK = (x*betaPowerK)%p\n",
    "    return (alphaPowerK, xTimesBetaPowerK)\n",
    "\n",
    "Elgamal_key = (23, 5, 9, 11) # p(same as n), alpha, a, beta\n",
    "encryptedElGamal = elGamalEncrypt(5, Elgamal_key, K_par=3)\n",
    "print(\"Encrypted:\",encryptedElGamal)\n",
    "\n",
    "\n",
    "def elGamalDecrypt(cipher_tuple, keys):\n",
    "    p, alpha, a, beta = keys\n",
    "    first = (cipher_tuple[0]**a)%p\n",
    "    _, x, __ = egcd(first, p)\n",
    "    return (x*cipher_tuple[1])%p\n",
    "    \n",
    "decrypted = elGamalDecrypt(encryptedElGamal,Elgamal_key)\n",
    "print(\"Decrypted:\", decrypted)"
   ]
  },
  {
   "cell_type": "code",
   "execution_count": 107,
   "metadata": {},
   "outputs": [],
   "source": [
    "def shanksAlgorithm2(p, alpha, beta):\n",
    "    m = math.ceil(abs(math.sqrt(p)))\n",
    "    \n",
    "    x1 = (alpha**m)%p\n",
    "    x2 = 0\n",
    "    x2_list = []\n",
    "    for j in range(0, m-1):\n",
    "        x2 = (alpha**(m*j))%p\n",
    "        print(x2)\n",
    "        x2_list.append(x2)\n",
    "    _, alphaInverse, __ = egcd(alpha, p)\n",
    "    \n",
    "    for i in range(0, m-1):\n",
    "        betaTimesAlphaInversePowI = (beta*alphaInverse**i)%p\n",
    "        if(betaTimesAlphaInversePowI in x2_list):\n",
    "            indexOfJ = x2_list.index(betaTimesAlphaInversePowI)\n",
    "            result = indexOfJ*alphaInverse+i\n",
    "            return result"
   ]
  },
  {
   "cell_type": "code",
   "execution_count": 226,
   "metadata": {},
   "outputs": [],
   "source": [
    "def shanksAlgorithm(p, alpha, beta):\n",
    "    m = math.ceil(math.sqrt(p))\n",
    "    \n",
    "    l1 = []\n",
    "    l2 = []\n",
    "    \n",
    "    for j in range(m):\n",
    "        alpahPowerMJ = alpha**(m*j)%p\n",
    "        l1.append((j, alpahPowerMJ))\n",
    "        \n",
    "    l1.sort(key=lambda tup: tup[1])\n",
    "    \n",
    "    alphaInverse = egcd(alpha, p)[1]\n",
    "    for i in range(m):\n",
    "        alphaPower = alphaInverse**i\n",
    "        betaAlphaInverse = beta*alphaPower%p\n",
    "        l2.append((i, betaAlphaInverse))\n",
    "        \n",
    "    l2.sort(key=lambda tup: tup[1])\n",
    "\n",
    "    print(\"liste 1:\",l1)\n",
    "    print(\"liste 2:\", l2)\n",
    "    for x in range(len(l1)):\n",
    "        for y in range(len(l2)):\n",
    "            if(l1[x][1] == l2[y][1]):\n",
    "                j = l1[x][0]\n",
    "                i = l2[y][0]\n",
    "                print(\"M=\", m)\n",
    "                print(\"i={}, j={}\".format(i, j))\n",
    "                res = (m*j+i)%p\n",
    "                return res\n",
    "    "
   ]
  },
  {
   "cell_type": "code",
   "execution_count": 227,
   "metadata": {},
   "outputs": [
    {
     "name": "stdout",
     "output_type": "stream",
     "text": [
      "liste 1: [(0, 1), (3, 1), (1, 3), (2, 9)]\n",
      "liste 2: [(3, 3), (2, 6), (0, 11), (1, 12)]\n",
      "M= 4\n",
      "i=3, j=1\n",
      "Shanks algorithm found: 7\n"
     ]
    }
   ],
   "source": [
    "p = 13\n",
    "alpha= 2\n",
    "beta = 11\n",
    "\n",
    "res = shanksAlgorithm(p, alpha, beta)\n",
    "print(\"Shanks algorithm found:\", res)"
   ]
  },
  {
   "cell_type": "code",
   "execution_count": null,
   "metadata": {},
   "outputs": [],
   "source": [
    "#EXAM 2020\n",
    "\n",
    "p = 13\n",
    "alpha = 2\n",
    "beta = 11\n",
    "\n",
    "resExam2020 = shanksAlgorithm(p, alpha, beta)\n",
    "print(resExam2020)"
   ]
  },
  {
   "cell_type": "code",
   "execution_count": null,
   "metadata": {},
   "outputs": [],
   "source": []
  },
  {
   "cell_type": "code",
   "execution_count": 13,
   "metadata": {},
   "outputs": [
    {
     "name": "stdout",
     "output_type": "stream",
     "text": [
      "[1, 3, 5, 7, 9, 11, 15, 17, 19, 21, 23, 25]\n",
      "29 har 12 relativt primiske elementer\n"
     ]
    }
   ],
   "source": [
    "def findAllCoprimes(n):\n",
    "    arr = []\n",
    "    for x in range(1,n):\n",
    "        coprimeCheck = math.gcd(x, n)\n",
    "        if(coprimeCheck == 1):\n",
    "            arr.append(x)\n",
    "            \n",
    "    return arr\n",
    "\n",
    "res = findAllCoprimes(26)\n",
    "print(res)\n",
    "print(\"29 har {} relativt primiske elementer\".format(len(res)))\n"
   ]
  },
  {
   "cell_type": "code",
   "execution_count": null,
   "metadata": {},
   "outputs": [],
   "source": []
  }
 ],
 "metadata": {
  "kernelspec": {
   "display_name": "Python 3",
   "language": "python",
   "name": "python3"
  },
  "language_info": {
   "codemirror_mode": {
    "name": "ipython",
    "version": 3
   },
   "file_extension": ".py",
   "mimetype": "text/x-python",
   "name": "python",
   "nbconvert_exporter": "python",
   "pygments_lexer": "ipython3",
   "version": "3.8.2"
  }
 },
 "nbformat": 4,
 "nbformat_minor": 4
}
