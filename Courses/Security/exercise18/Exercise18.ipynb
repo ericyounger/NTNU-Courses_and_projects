{
 "cells": [
  {
   "cell_type": "code",
   "execution_count": 1,
   "metadata": {},
   "outputs": [],
   "source": [
    "import math"
   ]
  },
  {
   "cell_type": "markdown",
   "metadata": {},
   "source": [
    "### 1a)"
   ]
  },
  {
   "cell_type": "code",
   "execution_count": 2,
   "metadata": {},
   "outputs": [
    {
     "name": "stdout",
     "output_type": "stream",
     "text": [
      "72 på binærform 0b1001000\n",
      "136 på binærform 0b10001000\n"
     ]
    }
   ],
   "source": [
    "x72 = bin(72)\n",
    "x136 = bin(136)\n",
    "\n",
    "print(\"72 på binærform\", x72)\n",
    "print(\"136 på binærform\", x136)\n",
    "\n",
    "#Kan også dele 72 eller 136 på 2 med hensyn på rest, og lese det oppover."
   ]
  },
  {
   "cell_type": "markdown",
   "metadata": {},
   "source": [
    "72 / 2 = 36 + 0.  \n",
    "36 / 2 = 34 + 0.  \n",
    "34 / 2 = 17 + 0.  \n",
    "17 / 2 = 8 + 1.  \n",
    "8 / 2 = 4 + 0.  \n",
    "4 / 2 = 2 + 0.  \n",
    "2 / 2 = 1 + 0.  \n",
    "1 / 2 = 0 + 1.\n",
    "\n",
    "#### 72 = 01001000 \n",
    "\n",
    "\n",
    "136 / 2 = 68 + 0.  \n",
    "36 / 2 = 34 + 0.  \n",
    "34 / 2 = 17 + 0.  \n",
    "17 / 2 = 8 + 1.  \n",
    "8 / 2 = 4 + 0.  \n",
    "4 / 2 = 2 + 0.  \n",
    "2 / 2 = 1 + 0.  \n",
    "1 / 2 = 0 + 1.  \n",
    "\n",
    " \n",
    "#### 136 = 10001000"
   ]
  },
  {
   "cell_type": "markdown",
   "metadata": {},
   "source": [
    "### 1b)"
   ]
  },
  {
   "cell_type": "markdown",
   "metadata": {},
   "source": [
    "11^2 =   121  mod 10001   \n",
    "11^4 =   4640 mod 10001   \n",
    "11^8 =   7448 mod 10001     \n",
    "11^16 =  7158 mod 10001   \n",
    "11^32 =  1841 mod 10001   \n",
    "11^64 =  8943 mod 10001   \n",
    "11^128 = 9253 mod 10001\n",
    "  \n",
    "  \n",
    "a = 11^72 mod 10001 = 8943*7448 mod 10001 = 804 mod 10001  \n",
    "b = 11^136 mod 10001 = 9253*7448 mod 10001 = 9454 mod 10001"
   ]
  },
  {
   "cell_type": "markdown",
   "metadata": {},
   "source": [
    "### 1c)"
   ]
  },
  {
   "cell_type": "markdown",
   "metadata": {},
   "source": [
    "#### gcd(10001, 804) = 1\n",
    "\n",
    "10001 = 12 * 804 + 353  \n",
    "804 = 2 *353 + 98    \n",
    "353 = 3 * 98 + 59   \n",
    "98 = 1 * 59 + 39    \n",
    "59 = 1 * 39 + 20   \n",
    "39 = 1 * 20 + 19  \n",
    "20 = 1 * 19 + 1  \n",
    "19 = 19 * 1 + 0    \n",
    "\n",
    "#### gcd(10001, 9454) = 1  \n",
    "10001 = 1 * 9454 + 547  \n",
    "9454 = 17 * 547 + 155  \n",
    "547 = 3 * 155 + 82   \n",
    "155 = 1 * 82 + 73   \n",
    "82 = 1 * 73 + 9   \n",
    "73 = 8 * 9 + 1  \n",
    "9 = 9 * 1 + 0   \n",
    "\n",
    "\n"
   ]
  },
  {
   "cell_type": "markdown",
   "metadata": {},
   "source": [
    "### 1d)    \n",
    "ab mod 10001 = 804*9454 mod 10001 = 256 mod 10001"
   ]
  },
  {
   "cell_type": "markdown",
   "metadata": {},
   "source": [
    "### 2)\n",
    "  \n",
    "Sett opp et RSA-kryptosystem med følgende parametre:\n",
    "* p og q skal ha minst 8 bits hver.   \n",
    "* e skal være liten, men større enn 3"
   ]
  },
  {
   "cell_type": "code",
   "execution_count": 3,
   "metadata": {},
   "outputs": [
    {
     "name": "stdout",
     "output_type": "stream",
     "text": [
      "p = 137, q = 139\n",
      "N =  19043\n",
      "phi(n) = 9384\n",
      "3 < e < 9384\n",
      "E is = 5\n",
      "since gcd(5,9384) = 1\n"
     ]
    }
   ],
   "source": [
    "def lcm(a, b):\n",
    "    return abs(a*b) // math.gcd(a, b)\n",
    "\n",
    "p = 137\n",
    "q = 139\n",
    "n = p*q\n",
    "\n",
    "phi = lcm(p-1, q-1)\n",
    "\n",
    "\n",
    "print(\"p = {}, q = {}\".format(p,q))\n",
    "print(\"N = \", n)\n",
    "print(\"phi(n) = {}\".format(phi))\n",
    "print (\"3 < e < {}\".format(phi))\n",
    "\n",
    "e = 5\n",
    "print(\"E is =\", e)\n",
    "print(\"since gcd(5,{}) = 1\".format(phi))"
   ]
  },
  {
   "cell_type": "markdown",
   "metadata": {},
   "source": [
    "### 2a)"
   ]
  },
  {
   "cell_type": "code",
   "execution_count": 4,
   "metadata": {},
   "outputs": [
    {
     "name": "stdout",
     "output_type": "stream",
     "text": [
      "public key(n=19043,e=5)\n"
     ]
    }
   ],
   "source": [
    "print(\"public key(n={},e={})\".format(n,e))"
   ]
  },
  {
   "cell_type": "markdown",
   "metadata": {},
   "source": [
    "### 2b)"
   ]
  },
  {
   "cell_type": "code",
   "execution_count": 5,
   "metadata": {},
   "outputs": [
    {
     "name": "stdout",
     "output_type": "stream",
     "text": [
      "private key(p=137,q=139,d=1877)\n"
     ]
    }
   ],
   "source": [
    "def egcd(a, b):\n",
    "    if a == 0:\n",
    "        return (b, 0, 1)\n",
    "    else:\n",
    "        gcd, x, y = egcd(b % a, a)\n",
    "        return (gcd, y - (b//a) * x, x)\n",
    "\n",
    "gcd, x, y = egcd(e, phi)\n",
    "\n",
    "\n",
    "d = x\n",
    "\n",
    "print(\"private key(p={},q={},d={})\".format(p,q,d))"
   ]
  },
  {
   "cell_type": "markdown",
   "metadata": {},
   "source": [
    "### 2c)"
   ]
  },
  {
   "cell_type": "code",
   "execution_count": 6,
   "metadata": {},
   "outputs": [],
   "source": [
    "def squareAndMultiply(base, exponent):\n",
    "    if exponent < 0:\n",
    "        return squareAndMultiply(1 / base, -exponent);\n",
    "    elif exponent == 0:\n",
    "        return  1\n",
    "    elif exponent == 1  :\n",
    "        return  base\n",
    "    elif ((exponent % 2) == 0):\n",
    "        return squareAndMultiply(base * base,  exponent / 2);\n",
    "    elif ((exponent % 2) != 0):\n",
    "        return base * squareAndMultiply(base * base, (exponent - 1) / 2);\n",
    "\n",
    "\n"
   ]
  },
  {
   "cell_type": "code",
   "execution_count": 7,
   "metadata": {},
   "outputs": [
    {
     "name": "stdout",
     "output_type": "stream",
     "text": [
      "42 encrypted is = 18166\n"
     ]
    }
   ],
   "source": [
    "def encryptRSA(plaintext, e, n):\n",
    "    return squareAndMultiply(plaintext, e) % n\n",
    "\n",
    "cipher = encryptRSA(42, e, n)\n",
    "\n",
    "print(\"42 encrypted is = {}\".format(cipher))"
   ]
  },
  {
   "cell_type": "code",
   "execution_count": 8,
   "metadata": {},
   "outputs": [
    {
     "name": "stdout",
     "output_type": "stream",
     "text": [
      "cipher 18166 is  decrypted to be = 42\n"
     ]
    }
   ],
   "source": [
    "def decryptRSA(cipher, d, n):\n",
    "    return squareAndMultiply(cipher, d) % n\n",
    "decrypted = decryptRSA(cipher, d, n)\n",
    "\n",
    "print(\"cipher {} is  decrypted to be = {}\".format(cipher, decrypted))"
   ]
  },
  {
   "cell_type": "markdown",
   "metadata": {},
   "source": [
    "### 3a)"
   ]
  },
  {
   "cell_type": "code",
   "execution_count": 9,
   "metadata": {},
   "outputs": [
    {
     "name": "stdout",
     "output_type": "stream",
     "text": [
      "Result B= 5 gives factors 31\n"
     ]
    }
   ],
   "source": [
    "def pollard(n, B):\n",
    "    #POLLARD P-1\n",
    "    a = 2\n",
    "    for j in range(2,B):\n",
    "        a *= a**j % n\n",
    "        d = math.gcd(a-1, n)\n",
    "        if (d > 1 and d < n):\n",
    "            return d\n",
    "    return None\n",
    "\n",
    "n = 1829\n",
    "B = 5\n",
    "\n",
    "result = pollard(n, B)\n",
    "if not result: print(\"Det finnes ingen primtallsfaktor i N med B som 5\")\n",
    "else: print(\"Result B= {} gives factors {}\".format(B,result))\n"
   ]
  },
  {
   "cell_type": "markdown",
   "metadata": {},
   "source": [
    "### 3b)"
   ]
  },
  {
   "cell_type": "code",
   "execution_count": 10,
   "metadata": {},
   "outputs": [
    {
     "name": "stdout",
     "output_type": "stream",
     "text": [
      "N1 = 18779\n",
      "B =  7\n",
      "p-1 = 210\n",
      "210 faktorisert er = 2 * 3 * 5 * 7\n",
      "Dermed har vi B = 7 som er garantert å finne en primtallsfaktor i 18779\n",
      "\n",
      "N2 = 42583\n",
      "B =  8\n",
      "p-1 = 96\n",
      "96 faktorisert er = [2,2,2,2,2,3]\n",
      "2^5 = 32\n",
      "Dermed kan vi være sikker på at 32 gir oss primtallsfaktoren 97\n"
     ]
    }
   ],
   "source": [
    "# 1\n",
    "n1 = 18779\n",
    "B = 1\n",
    "res = pollard(n1,B)\n",
    "\n",
    "while(res is None):\n",
    "    B+=1\n",
    "    res = pollard(n1,B)\n",
    "\n",
    "pmin1 = res-1\n",
    "print(\"N1 =\",n1)\n",
    "print(\"B = \",B)\n",
    "print(\"p-1 =\",pmin1)\n",
    "\n",
    "print(\"210 faktorisert er = 2 * 3 * 5 * 7\")\n",
    "print(\"Dermed har vi B = 7 som er garantert å finne en primtallsfaktor i 18779\")\n",
    "\n",
    "\n",
    "#2\n",
    "\n",
    "n2 = 42583\n",
    "\n",
    "B = 1\n",
    "res = pollard(n2,B)\n",
    "\n",
    "while(res is None):\n",
    "    B+=1\n",
    "    res = pollard(n2,B)\n",
    "    \n",
    "pmin1 = res-1\n",
    "print(\"\\nN2 =\",n2)\n",
    "print(\"B = \",B)\n",
    "print(\"p-1 =\",pmin1)\n",
    "print(\"96 faktorisert er = [2,2,2,2,2,3]\")\n",
    "print(\"2^5 = 32\")\n",
    "print(\"Dermed kan vi være sikker på at 32 gir oss primtallsfaktoren 97\")\n",
    "\n"
   ]
  },
  {
   "cell_type": "markdown",
   "metadata": {},
   "source": [
    "### 3c)"
   ]
  },
  {
   "cell_type": "code",
   "execution_count": 11,
   "metadata": {},
   "outputs": [
    {
     "name": "stdout",
     "output_type": "stream",
     "text": [
      "Faktor i n(6319) er 71 med B=7\n"
     ]
    }
   ],
   "source": [
    "n = 6319\n",
    "B = 1\n",
    "res = pollard(n,B)\n",
    "\n",
    "while(res is None):\n",
    "    B+=1\n",
    "    res = pollard(n,B)\n",
    "\n",
    "\n",
    "print(\"Faktor i n({}) er {} med B={}\".format(n, res, B))\n"
   ]
  },
  {
   "cell_type": "markdown",
   "metadata": {},
   "source": [
    "### 4)"
   ]
  },
  {
   "cell_type": "code",
   "execution_count": 12,
   "metadata": {},
   "outputs": [],
   "source": [
    "def pollardRho(n,x,f):\n",
    "    x = y = x\n",
    "    d = 1\n",
    "\n",
    "    i = 0\n",
    "    while d == 1:\n",
    "        i += 1\n",
    "        x  = f(x)\n",
    "        y  = f(f(y))\n",
    "        d  = math.gcd(abs(x - y), n)\n",
    "        \n",
    "    if d == n: \n",
    "        return (\"failure\", i)\n",
    "    else:\n",
    "        return (d, i)\n",
    "        \n",
    "f = lambda x : int(math.pow(x,2)+1)%n\n",
    "\n"
   ]
  },
  {
   "cell_type": "markdown",
   "metadata": {},
   "source": [
    "### 4a)"
   ]
  },
  {
   "cell_type": "code",
   "execution_count": 13,
   "metadata": {},
   "outputs": [
    {
     "name": "stdout",
     "output_type": "stream",
     "text": [
      "Fant faktoren 37 med 4 iterasjoner\n"
     ]
    }
   ],
   "source": [
    "x1 = 1\n",
    "n = 851\n",
    "\n",
    "resultRHO, i = pollardRho(n,x1,f)\n",
    "print(\"Fant faktoren {} med {} iterasjoner\".format(resultRHO, i))"
   ]
  },
  {
   "cell_type": "markdown",
   "metadata": {},
   "source": [
    "### 4b)"
   ]
  },
  {
   "cell_type": "code",
   "execution_count": 14,
   "metadata": {},
   "outputs": [
    {
     "name": "stdout",
     "output_type": "stream",
     "text": [
      "Fant faktoren 37 med 4 iterasjoner\n"
     ]
    }
   ],
   "source": [
    "x1 = 1\n",
    "n = 1517\n",
    "\n",
    "resultRHO, i = pollardRho(n,x1,f)\n",
    "print(\"Fant faktoren {} med {} iterasjoner\".format(resultRHO, i))"
   ]
  },
  {
   "cell_type": "markdown",
   "metadata": {},
   "source": [
    "### 4c)"
   ]
  },
  {
   "cell_type": "code",
   "execution_count": 15,
   "metadata": {},
   "outputs": [
    {
     "name": "stdout",
     "output_type": "stream",
     "text": [
      "Fant faktoren 151 med 5 iterasjoner\n"
     ]
    }
   ],
   "source": [
    "x1 = 1\n",
    "n = 31861\n",
    "\n",
    "resultRHO, i = pollardRho(n,x1,f)\n",
    "print(\"Fant faktoren {} med {} iterasjoner\".format(resultRHO, i))"
   ]
  },
  {
   "cell_type": "markdown",
   "metadata": {},
   "source": [
    "### 5a)"
   ]
  },
  {
   "cell_type": "markdown",
   "metadata": {},
   "source": [
    "$𝐸(𝑚1) \\times 𝐸(𝑚2)= 𝐸(𝑚1\\times𝑚2)$\n",
    "\n",
    "fordi:  \n",
    "$𝑚_{1}^𝑒 \\times 𝑚_{2}^𝑒=(𝑚_{1} \\times 𝑚_{2})^𝑒 \\bmod 𝑛$\n",
    "\n",
    "RSA har den egenskapen at produktet av to krypteringstekster er lik krypteringen av produktet fra de respektive plaintext-ene.\n",
    "\n",
    "Eksempel under:"
   ]
  },
  {
   "cell_type": "code",
   "execution_count": 16,
   "metadata": {},
   "outputs": [
    {
     "name": "stdout",
     "output_type": "stream",
     "text": [
      "m1 encrypted = 1024, m2 encrypted = 3125\n",
      "product of m1^e * m2^e = 3200000\n",
      "m1^e * m2^e mod 19043 = 776\n",
      "(m1*m2)^e mod 19043 = 776\n",
      "3200000 congruent 776 mod 19043\n"
     ]
    }
   ],
   "source": [
    "m1 = 4\n",
    "m2 = 5\n",
    "\n",
    "e = 5\n",
    "n = 19043\n",
    "\n",
    "# LEFT SIDE OF CONGRUENCE\n",
    "m1_res = encryptRSA(m1, e, n)\n",
    "m2_res = encryptRSA(m2, e, n)\n",
    "individual_encrypt_Prod = m1_res*m2_res\n",
    "individual_encrypt_Prod_mod_n = individual_encrypt_Prod % n\n",
    "\n",
    "print(\"m1 encrypted = {}, m2 encrypted = {}\".format(m1_res, m2_res))\n",
    "print(\"product of m1^e * m2^e = {}\".format(individual_encrypt_Prod))\n",
    "print(\"m1^e * m2^e mod {} = {}\".format(n, individual_encrypt_Prod_mod_n))\n",
    "\n",
    "productEncrypt = encryptRSA(m1*m2, e, n)\n",
    "productEncrypt_mod_n = productEncrypt%n\n",
    "print(\"(m1*m2)^e mod {} = {}\".format(n, productEncrypt_mod_n))\n",
    "\n",
    "print(\"{} congruent {} mod {}\".format(individual_encrypt_Prod,productEncrypt_mod_n, n))"
   ]
  },
  {
   "cell_type": "markdown",
   "metadata": {},
   "source": [
    "### 5b)"
   ]
  },
  {
   "cell_type": "markdown",
   "metadata": {},
   "source": [
    "\"Because of this multiplicative property a chosen-ciphertext attack is possible. E.g., an attacker who wants to know the decryption of a ciphertext c ≡ me (mod n) may ask the holder of the private key d to decrypt an unsuspicious-looking ciphertext c′ ≡ cre (mod n) for some value r chosen by the attacker.   \n",
    "\n",
    "Because of the multiplicative property c′ is the encryption of mr (mod n). Hence, if the attacker is successful with the attack, they will learn mr (mod n) from which they can derive the message m by multiplying mr with the modular inverse of r modulo n.\"\n",
    "\n",
    "-wikipedia\n",
    "\n",
    "\n",
    "Altså på grunn av den multiplikative egenskapen så kan man lett legge til en egenlagd melding, og få et offer til å dekryptere den meldingen. Med den dekrypterte meldingen, så kan vi dekryptere andre meldinger med.\n",
    "\n",
    "Se eksempel under:"
   ]
  },
  {
   "cell_type": "code",
   "execution_count": 17,
   "metadata": {},
   "outputs": [
    {
     "name": "stdout",
     "output_type": "stream",
     "text": [
      "Cipher text we want to decode is:  1024\n",
      "C_b decrypted is: 8\n",
      "(C_b)^d = t * 2 mod n\n",
      "therefore ((C_b)^d)/2 = plaintext for other message\n"
     ]
    }
   ],
   "source": [
    "#Public and private keys\n",
    "e = 5\n",
    "n = 19043\n",
    "d=1877\n",
    "\n",
    "\n",
    "c_a = 2\n",
    "\n",
    "#our own cipher that we add into the mix\n",
    "Ca = encryptRSA(c_a, e, n) % n\n",
    "\n",
    "# C is the already encrypted cipher\n",
    "C = encryptRSA(4, e, n) % n\n",
    "print(\"Cipher text we want to decode is: \", C)\n",
    "\n",
    "#product of two ciphers mod n\n",
    "Cb = (Ca * C) % n\n",
    "\n",
    "#Decrypt product of two ciphers mod n\n",
    "\n",
    "Cb_decrypted = decryptRSA(Cb, d, n)\n",
    "\n",
    "print(\"C_b decrypted is:\", Cb_decrypted)\n",
    "print(\"(C_b)^d = t * 2 mod n\")\n",
    "print(\"therefore ((C_b)^d)/2 = plaintext for other message\")"
   ]
  },
  {
   "cell_type": "markdown",
   "metadata": {},
   "source": [
    "$𝐶≡𝑥^𝑒$ og $𝑥≡𝐶^𝑑$  \n",
    "Så $(𝑥^e)^𝑑 ≡ 𝑥 \\bmod 𝑛$  \n",
    "og derfor er $(C_b)^d = t * 2  \\bmod n$ \n",
    "\n",
    "#### Man kan altså dekryptere den originale meldingen C med å dele på 2 \n"
   ]
  },
  {
   "cell_type": "markdown",
   "metadata": {},
   "source": [
    "### 6a)\n",
    "Forklar hvorfor vi kan skrive q−p= 2d, hvor d er et heltall."
   ]
  },
  {
   "cell_type": "markdown",
   "metadata": {},
   "source": [
    "oddetall - oddetall = partall  \n",
    "\n",
    "$p =2𝑐+1$  \n",
    "$q =2b+1$\n",
    "  \n",
    "  \n",
    "$p-q = 2c+1 - (2b+1) = 2(𝑐−b)$\n",
    "\n",
    "Dermed er:    \n",
    "$p-q  = 2(c-b) = 2d$\n",
    "\n",
    "\n"
   ]
  },
  {
   "cell_type": "markdown",
   "metadata": {},
   "source": [
    "### 6b)\n",
    "\n",
    "Vis at n + d^2 er et kvadrattall"
   ]
  },
  {
   "cell_type": "markdown",
   "metadata": {},
   "source": [
    "$n = p*q$  \n",
    "  \n",
    "$q - p = 2d$\n",
    "\n",
    "#### utleder d \n",
    "$d = \\frac{q-p}{2}$\n",
    "\n",
    "\n",
    "$n + d^2$  \n",
    "  \n",
    "=> $pq + (\\frac{q-p}{2})^2$   \n",
    "  \n",
    "=> $pq + \\frac{(q-p)^{2}}{4}$   \n",
    "  \n",
    "=> $\\frac{4pq}{4} + \\frac{(q-p)^{2}}{4}$\n",
    "\n",
    "=> $\\frac{(q-p)^{2} + 4pq}{4}$\n",
    " \n",
    "=> $\\frac{p^2 + 2pq + q^2}{4}$ \n",
    "\n",
    "faktoriserer dette og får  =>\n",
    "\n",
    "$(\\frac{p+q}{2})^{2}$"
   ]
  },
  {
   "cell_type": "markdown",
   "metadata": {},
   "source": [
    "### 6c)\n",
    "\n",
    "Vis hvordan vi kan faktorisere n hvis n+ d^2 er et kvadrattall.  \n",
    "\n",
    "Vi antar her at at d^2 er “liten nok”."
   ]
  },
  {
   "cell_type": "markdown",
   "metadata": {},
   "source": [
    "\n",
    "$n + d^2 = m^2$\n",
    "\n",
    "$n = m^2 - d^2$\n",
    "\n",
    "#### Bruker konjugatsetningen\n",
    "$n = konjugatsetningen(m^2 - d^2)$  \n",
    "$n = (m+d)(m-d)$\n",
    "\n",
    "#### Siden q > p, vil p og q se sånn her ut:  \n",
    "q = m + d  \n",
    "p = m - d\n",
    "\n",
    "\n",
    "\n"
   ]
  },
  {
   "cell_type": "markdown",
   "metadata": {},
   "source": [
    "### 6d)\n",
    "\n",
    "Faktoriser n= 152416580095517 med denne metoden."
   ]
  },
  {
   "cell_type": "markdown",
   "metadata": {},
   "source": [
    "n = 152416580095517  \n",
    "\n",
    "$x^{2} = \\sqrt{n + d^{2}}$  \n",
    "$x = \\sqrt{n} + d$\n",
    "\n",
    "Finner x ved å ta kvadratroten av N og runde til nærmeste hele tall\n",
    "\n",
    "$x = \\sqrt{n} = \\sqrt{152416580095517} = 12345710.999999838 \\approx 12345711$\n",
    "\n",
    "#### prøver med d = 2\n",
    "\n",
    "$ n = q \\times p$  \n",
    "$ n = (x+d) \\times (x-d)$  \n",
    "$ n = (12345711 + 2) \\times (12345710 -2)$  \n",
    "$ n = 12345711 \\times 12345709$  \n",
    "$ n = 152416580095517$ \n",
    " \n",
    "Vi finner tilbake til n, dermed stemmer p og q.  \n",
    "  \n",
    "\n",
    "$ n = 12345711 \\times 12345709$ \n",
    "\n"
   ]
  },
  {
   "cell_type": "code",
   "execution_count": 18,
   "metadata": {},
   "outputs": [
    {
     "name": "stdout",
     "output_type": "stream",
     "text": [
      "Factors of N=152416580095517 is (12343834, 12347588)\n"
     ]
    }
   ],
   "source": [
    "def factorizeN(n):\n",
    "    x = round(math.sqrt(n))\n",
    "    i = 1\n",
    "    while True:\n",
    "        res = (x*x) - (i*i)\n",
    "        if(res == n):\n",
    "            p = x-d\n",
    "            q = x+d\n",
    "            return (p, q)\n",
    "        i += 1\n",
    "        if(i == math.sqrt(n)+1): #not found\n",
    "            break\n",
    "\n",
    "n = 152416580095517\n",
    "res = factorizeN(n)\n",
    "print(\"Factors of N={} is {}\".format(n,res))"
   ]
  },
  {
   "cell_type": "code",
   "execution_count": null,
   "metadata": {},
   "outputs": [],
   "source": []
  }
 ],
 "metadata": {
  "kernelspec": {
   "display_name": "Python 3",
   "language": "python",
   "name": "python3"
  },
  "language_info": {
   "codemirror_mode": {
    "name": "ipython",
    "version": 3
   },
   "file_extension": ".py",
   "mimetype": "text/x-python",
   "name": "python",
   "nbconvert_exporter": "python",
   "pygments_lexer": "ipython3",
   "version": "3.8.2"
  }
 },
 "nbformat": 4,
 "nbformat_minor": 4
}
